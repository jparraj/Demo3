{
  "nbformat": 4,
  "nbformat_minor": 0,
  "metadata": {
    "colab": {
      "name": "intro_pyt.ipynb",
      "provenance": [],
      "include_colab_link": true
    },
    "kernelspec": {
      "name": "python3",
      "display_name": "Python 3"
    }
  },
  "cells": [
    {
      "cell_type": "markdown",
      "metadata": {
        "id": "view-in-github",
        "colab_type": "text"
      },
      "source": [
        "<a href=\"https://colab.research.google.com/github/jparraj/Demo3/blob/master/intro_pyt.ipynb\" target=\"_parent\"><img src=\"https://colab.research.google.com/assets/colab-badge.svg\" alt=\"Open In Colab\"/></a>"
      ]
    },
    {
      "cell_type": "code",
      "metadata": {
        "id": "aNfsje1I57Uv",
        "colab_type": "code",
        "colab": {}
      },
      "source": [
        "%%bash\n",
        "for x in {1..5}\n",
        "do\n",
        "    touch OuT${x}.csv\n",
        "done"
      ],
      "execution_count": 0,
      "outputs": []
    },
    {
      "cell_type": "code",
      "metadata": {
        "id": "oKwci5pQ6ccA",
        "colab_type": "code",
        "colab": {
          "base_uri": "https://localhost:8080/",
          "height": 102
        },
        "outputId": "bf0d331a-31ee-4d1d-bf03-8593cb729b5d"
      },
      "source": [
        "x = !ls -1 *csv\n",
        "for X in x:\n",
        "  print(X.lower())\n",
        "#[X.lower() for X in x]"
      ],
      "execution_count": 9,
      "outputs": [
        {
          "output_type": "stream",
          "text": [
            "out1.csv\n",
            "out2.csv\n",
            "out3.csv\n",
            "out4.csv\n",
            "out5.csv\n"
          ],
          "name": "stdout"
        }
      ]
    },
    {
      "cell_type": "code",
      "metadata": {
        "id": "wWrc79Lh9W5m",
        "colab_type": "code",
        "colab": {
          "base_uri": "https://localhost:8080/",
          "height": 34
        },
        "outputId": "3b15d452-bc66-4acf-bf0e-2feaa43aa572"
      },
      "source": [
        "result = []\n",
        "for e in x:\n",
        "  result.append(e.upper())\n",
        "result"
      ],
      "execution_count": 10,
      "outputs": [
        {
          "output_type": "execute_result",
          "data": {
            "text/plain": [
              "['OUT1.CSV', 'OUT2.CSV', 'OUT3.CSV', 'OUT4.CSV', 'OUT5.CSV']"
            ]
          },
          "metadata": {
            "tags": []
          },
          "execution_count": 10
        }
      ]
    },
    {
      "cell_type": "code",
      "metadata": {
        "id": "8QZYIUuB9ouZ",
        "colab_type": "code",
        "colab": {
          "base_uri": "https://localhost:8080/",
          "height": 34
        },
        "outputId": "c1cf7220-1345-4abb-b8ae-0ee03a24f1e8"
      },
      "source": [
        "[e ** 2 for e in range(1,10)]"
      ],
      "execution_count": 19,
      "outputs": [
        {
          "output_type": "execute_result",
          "data": {
            "text/plain": [
              "[1, 4, 9, 16, 25, 36, 49, 64, 81]"
            ]
          },
          "metadata": {
            "tags": []
          },
          "execution_count": 19
        }
      ]
    },
    {
      "cell_type": "code",
      "metadata": {
        "id": "oyj1yy7uAbH6",
        "colab_type": "code",
        "colab": {
          "base_uri": "https://localhost:8080/",
          "height": 34
        },
        "outputId": "76936805-7d33-4785-f9ae-547d8701d30d"
      },
      "source": [
        "for i in range(5,10):\n",
        "  print(i, end = ', ')"
      ],
      "execution_count": 21,
      "outputs": [
        {
          "output_type": "stream",
          "text": [
            "5, 6, 7, 8, 9, "
          ],
          "name": "stdout"
        }
      ]
    },
    {
      "cell_type": "code",
      "metadata": {
        "id": "a42KKduqDeY_",
        "colab_type": "code",
        "colab": {
          "base_uri": "https://localhost:8080/",
          "height": 102
        },
        "outputId": "8ac06c55-dcd7-4f1e-b45b-352221d74043"
      },
      "source": [
        "a = [\"a\",\"b\",\"c\",\"d\",\"e\"]\n",
        "for i,b in enumerate(a):\n",
        "  print(i,b)"
      ],
      "execution_count": 24,
      "outputs": [
        {
          "output_type": "stream",
          "text": [
            "0 a\n",
            "1 b\n",
            "2 c\n",
            "3 d\n",
            "4 e\n"
          ],
          "name": "stdout"
        }
      ]
    },
    {
      "cell_type": "code",
      "metadata": {
        "id": "Bl-uWUjNE2b6",
        "colab_type": "code",
        "colab": {
          "base_uri": "https://localhost:8080/",
          "height": 34
        },
        "outputId": "c46c5c5d-721e-4b3b-8cbc-376ed89b665d"
      },
      "source": [
        "def eleva2(lista):\n",
        "  return [l ** 2 for l in lista]\n",
        "\n",
        "eleva2([1,2,3,4,5])"
      ],
      "execution_count": 28,
      "outputs": [
        {
          "output_type": "execute_result",
          "data": {
            "text/plain": [
              "[1, 4, 9, 16, 25]"
            ]
          },
          "metadata": {
            "tags": []
          },
          "execution_count": 28
        }
      ]
    },
    {
      "cell_type": "code",
      "metadata": {
        "id": "MQuDpDK2Ht6I",
        "colab_type": "code",
        "colab": {
          "base_uri": "https://localhost:8080/",
          "height": 34
        },
        "outputId": "28bc9371-9447-44bd-dbf3-0eb22e94824e"
      },
      "source": [
        "def may5_arc(x):\n",
        "  resultado = []\n",
        "  for i in x:\n",
        "    if i > 5:\n",
        "      resultado.append(i)\n",
        "  return resultado\n",
        "\n",
        "may5_arc(range(10))"
      ],
      "execution_count": 39,
      "outputs": [
        {
          "output_type": "execute_result",
          "data": {
            "text/plain": [
              "[6, 7, 8, 9]"
            ]
          },
          "metadata": {
            "tags": []
          },
          "execution_count": 39
        }
      ]
    },
    {
      "cell_type": "code",
      "metadata": {
        "id": "nwrYz5WZJsvR",
        "colab_type": "code",
        "colab": {
          "base_uri": "https://localhost:8080/",
          "height": 34
        },
        "outputId": "76a5457d-ab85-4814-eb8d-050886618a51"
      },
      "source": [
        "def may5(lista):\n",
        "  return [i for i in lista if i > 5]\n",
        "\n",
        "may5(range(10))"
      ],
      "execution_count": 40,
      "outputs": [
        {
          "output_type": "execute_result",
          "data": {
            "text/plain": [
              "[6, 7, 8, 9]"
            ]
          },
          "metadata": {
            "tags": []
          },
          "execution_count": 40
        }
      ]
    },
    {
      "cell_type": "code",
      "metadata": {
        "id": "ArSUW-GiKfiy",
        "colab_type": "code",
        "colab": {
          "base_uri": "https://localhost:8080/",
          "height": 34
        },
        "outputId": "5a7d0aa9-2a08-469e-8221-b89084d9b9ab"
      },
      "source": [
        "y = [[1,2,3],\n",
        "     [4,5,6],\n",
        "     [7,8,9],\n",
        "     [10,11,12]]\n",
        "\n",
        "def mat_lis(x):\n",
        "  resultado = []\n",
        "  for i in x:\n",
        "    for j in i:\n",
        "      resultado.append(j)\n",
        "  return resultado\n",
        "\n",
        "mat_lis(y)"
      ],
      "execution_count": 45,
      "outputs": [
        {
          "output_type": "execute_result",
          "data": {
            "text/plain": [
              "[1, 2, 3, 4, 5, 6, 7, 8, 9, 10, 11, 12]"
            ]
          },
          "metadata": {
            "tags": []
          },
          "execution_count": 45
        }
      ]
    },
    {
      "cell_type": "code",
      "metadata": {
        "id": "T8TnuwTpL41C",
        "colab_type": "code",
        "colab": {
          "base_uri": "https://localhost:8080/",
          "height": 34
        },
        "outputId": "e1840a70-24b6-4f37-b08d-534b593f5763"
      },
      "source": [
        "def mat_lis2(x):\n",
        "  return [j for i in x for j in i if j > 5]\n",
        "\n",
        "mat_lis2(y)"
      ],
      "execution_count": 48,
      "outputs": [
        {
          "output_type": "execute_result",
          "data": {
            "text/plain": [
              "[6, 7, 8, 9, 10, 11, 12]"
            ]
          },
          "metadata": {
            "tags": []
          },
          "execution_count": 48
        }
      ]
    }
  ]
}