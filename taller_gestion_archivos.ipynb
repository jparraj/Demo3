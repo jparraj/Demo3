{
  "nbformat": 4,
  "nbformat_minor": 0,
  "metadata": {
    "colab": {
      "name": "taller_gestion_archivos.ipynb",
      "provenance": [],
      "include_colab_link": true
    },
    "kernelspec": {
      "name": "python3",
      "display_name": "Python 3"
    }
  },
  "cells": [
    {
      "cell_type": "markdown",
      "metadata": {
        "id": "view-in-github",
        "colab_type": "text"
      },
      "source": [
        "<a href=\"https://colab.research.google.com/github/jparraj/Demo3/blob/master/taller_gestion_archivos.ipynb\" target=\"_parent\"><img src=\"https://colab.research.google.com/assets/colab-badge.svg\" alt=\"Open In Colab\"/></a>"
      ]
    },
    {
      "cell_type": "code",
      "metadata": {
        "id": "B7RlA89xJuhy",
        "colab_type": "code",
        "colab": {}
      },
      "source": [
        "## Actividad 1\n",
        "!mkdir practica-bash-1"
      ],
      "execution_count": 0,
      "outputs": []
    },
    {
      "cell_type": "code",
      "metadata": {
        "id": "oepXd53SKG1z",
        "colab_type": "code",
        "colab": {}
      },
      "source": [
        "## Actividad 2\n",
        "!mkdir ./practica-bash-1/1\n",
        "!mkdir ./practica-bash-1/2\n",
        "!mkdir ./practica-bash-1/3"
      ],
      "execution_count": 0,
      "outputs": []
    },
    {
      "cell_type": "code",
      "metadata": {
        "id": "R4HjL4mPLQNr",
        "colab_type": "code",
        "colab": {}
      },
      "source": [
        "## Actividad 3\n",
        "!mkdir ./practica-bash-1/1/1-1\n",
        "!mkdir ./practica-bash-1/1/1-2\n",
        "!mkdir ./practica-bash-1/1/1-3"
      ],
      "execution_count": 0,
      "outputs": []
    },
    {
      "cell_type": "code",
      "metadata": {
        "id": "fHMfXDROL-1s",
        "colab_type": "code",
        "colab": {}
      },
      "source": [
        "## Actividad 4\n",
        "!mkdir ./practica-bash-1/2/2-1\n",
        "!mkdir ./practica-bash-1/2/2-2\n",
        "!mkdir ./practica-bash-1/2/2-3"
      ],
      "execution_count": 0,
      "outputs": []
    },
    {
      "cell_type": "code",
      "metadata": {
        "id": "YCysSiPnMFeY",
        "colab_type": "code",
        "colab": {}
      },
      "source": [
        "## Actividad 5\n",
        "!mkdir ./practica-bash-1/3/3-1\n",
        "!mkdir ./practica-bash-1/3/3-2\n",
        "!mkdir ./practica-bash-1/3/3-3"
      ],
      "execution_count": 0,
      "outputs": []
    },
    {
      "cell_type": "code",
      "metadata": {
        "id": "-3Kb2spqMKkq",
        "colab_type": "code",
        "colab": {
          "base_uri": "https://localhost:8080/",
          "height": 309
        },
        "outputId": "db71ba72-620a-42c2-e156-5ea55128a912"
      },
      "source": [
        "## Actividad 6\n",
        "!apt-get install tree"
      ],
      "execution_count": 14,
      "outputs": [
        {
          "output_type": "stream",
          "text": [
            "Reading package lists... Done\n",
            "Building dependency tree       \n",
            "Reading state information... Done\n",
            "The following NEW packages will be installed:\n",
            "  tree\n",
            "0 upgraded, 1 newly installed, 0 to remove and 8 not upgraded.\n",
            "Need to get 40.7 kB of archives.\n",
            "After this operation, 105 kB of additional disk space will be used.\n",
            "Get:1 http://archive.ubuntu.com/ubuntu bionic/universe amd64 tree amd64 1.7.0-5 [40.7 kB]\n",
            "Fetched 40.7 kB in 1s (71.5 kB/s)\n",
            "Selecting previously unselected package tree.\n",
            "(Reading database ... 131183 files and directories currently installed.)\n",
            "Preparing to unpack .../tree_1.7.0-5_amd64.deb ...\n",
            "Unpacking tree (1.7.0-5) ...\n",
            "Setting up tree (1.7.0-5) ...\n",
            "Processing triggers for man-db (2.8.3-2ubuntu0.1) ...\n"
          ],
          "name": "stdout"
        }
      ]
    },
    {
      "cell_type": "code",
      "metadata": {
        "id": "3NVZgf8eMpQy",
        "colab_type": "code",
        "colab": {
          "base_uri": "https://localhost:8080/",
          "height": 272
        },
        "outputId": "44ebfa9a-720d-4bf6-f880-2555851f9585"
      },
      "source": [
        "## Actividad 6\n",
        "!cd practica-bash-1 && tree"
      ],
      "execution_count": 15,
      "outputs": [
        {
          "output_type": "stream",
          "text": [
            ".\n",
            "├── 1\n",
            "│   ├── 1-1\n",
            "│   ├── 1-2\n",
            "│   └── 1-3\n",
            "├── 2\n",
            "│   ├── 2-1\n",
            "│   ├── 2-2\n",
            "│   └── 2-3\n",
            "└── 3\n",
            "    ├── 3-1\n",
            "    ├── 3-2\n",
            "    └── 3-3\n",
            "\n",
            "12 directories, 0 files\n"
          ],
          "name": "stdout"
        }
      ]
    },
    {
      "cell_type": "code",
      "metadata": {
        "id": "gtqoTTw8NNtq",
        "colab_type": "code",
        "colab": {}
      },
      "source": [
        "## Actividad 7\n",
        "!cd practica-bash-1/1/1-1 && touch _SUCCESS && touch part-0"
      ],
      "execution_count": 0,
      "outputs": []
    },
    {
      "cell_type": "code",
      "metadata": {
        "id": "Z6gLjcTPNo3C",
        "colab_type": "code",
        "colab": {}
      },
      "source": [
        "## Actividad 8\n",
        "!cd practica-bash-1/1/1-1 && cp part-0 part-1 && cp part-0 part-2"
      ],
      "execution_count": 0,
      "outputs": []
    },
    {
      "cell_type": "code",
      "metadata": {
        "id": "eX0mg3VbN44R",
        "colab_type": "code",
        "colab": {
          "base_uri": "https://localhost:8080/",
          "height": 34
        },
        "outputId": "eda3a70a-beb1-4456-bd84-7ecf073ab6ea"
      },
      "source": [
        "## Actividad 9\n",
        "cd ./practica-bash-1/1/1-1"
      ],
      "execution_count": 21,
      "outputs": [
        {
          "output_type": "stream",
          "text": [
            "/content/practica-bash-1/1/1-1\n"
          ],
          "name": "stdout"
        }
      ]
    },
    {
      "cell_type": "code",
      "metadata": {
        "id": "aw4_O7VHPcqv",
        "colab_type": "code",
        "colab": {}
      },
      "source": [
        "## Actividad 9\n",
        "!mv part-0 part-00001 && mv part-1 part-00001 && mv part-2 part-00002"
      ],
      "execution_count": 0,
      "outputs": []
    },
    {
      "cell_type": "code",
      "metadata": {
        "id": "m_GihgFiQCfc",
        "colab_type": "code",
        "colab": {
          "base_uri": "https://localhost:8080/",
          "height": 323
        },
        "outputId": "1361c9b2-0b41-4942-8612-99db119d1af7"
      },
      "source": [
        "## Actividad 10\n",
        "!cd ../.. && tree"
      ],
      "execution_count": 24,
      "outputs": [
        {
          "output_type": "stream",
          "text": [
            ".\n",
            "├── 1\n",
            "│   ├── 1-1\n",
            "│   │   ├── part-00001\n",
            "│   │   ├── part-00002\n",
            "│   │   └── _SUCCESS\n",
            "│   ├── 1-2\n",
            "│   └── 1-3\n",
            "├── 2\n",
            "│   ├── 2-1\n",
            "│   ├── 2-2\n",
            "│   └── 2-3\n",
            "└── 3\n",
            "    ├── 3-1\n",
            "    ├── 3-2\n",
            "    └── 3-3\n",
            "\n",
            "12 directories, 3 files\n"
          ],
          "name": "stdout"
        }
      ]
    },
    {
      "cell_type": "code",
      "metadata": {
        "id": "Op3qWuAPQpzY",
        "colab_type": "code",
        "colab": {}
      },
      "source": [
        "## Actividad 11\n",
        "!mv * ../../3/3-3"
      ],
      "execution_count": 0,
      "outputs": []
    },
    {
      "cell_type": "code",
      "metadata": {
        "id": "wpjsebA8Rwwt",
        "colab_type": "code",
        "colab": {
          "base_uri": "https://localhost:8080/",
          "height": 34
        },
        "outputId": "f3afb331-0fb5-4022-a1dd-b3c2c976c21b"
      },
      "source": [
        "## Actividad 12\n",
        "cd /content"
      ],
      "execution_count": 31,
      "outputs": [
        {
          "output_type": "stream",
          "text": [
            "/content\n"
          ],
          "name": "stdout"
        }
      ]
    },
    {
      "cell_type": "code",
      "metadata": {
        "id": "fv4xV0DkR1hr",
        "colab_type": "code",
        "colab": {}
      },
      "source": [
        "## Actividad 12\n",
        "!rm -rf practica-bash-1"
      ],
      "execution_count": 0,
      "outputs": []
    }
  ]
}