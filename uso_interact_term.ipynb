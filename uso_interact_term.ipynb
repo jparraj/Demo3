{
  "nbformat": 4,
  "nbformat_minor": 0,
  "metadata": {
    "colab": {
      "name": "uso_interact_term.ipynb",
      "provenance": [],
      "include_colab_link": true
    },
    "kernelspec": {
      "name": "python3",
      "display_name": "Python 3"
    }
  },
  "cells": [
    {
      "cell_type": "markdown",
      "metadata": {
        "id": "view-in-github",
        "colab_type": "text"
      },
      "source": [
        "<a href=\"https://colab.research.google.com/github/jparraj/Demo3/blob/master/uso_interact_term.ipynb\" target=\"_parent\"><img src=\"https://colab.research.google.com/assets/colab-badge.svg\" alt=\"Open In Colab\"/></a>"
      ]
    },
    {
      "cell_type": "code",
      "metadata": {
        "id": "y2kerda8wSDe",
        "colab_type": "code",
        "outputId": "c8193d44-3d59-4567-831f-7a9ec30e47b8",
        "colab": {
          "base_uri": "https://localhost:8080/",
          "height": 34
        }
      },
      "source": [
        "## Imprimir usando echo con comillas simples, dobles o sin comillas\n",
        "## Con comillas se respeta el espacio entre palabras\n",
        "!echo hola   mundo    cruel"
      ],
      "execution_count": 0,
      "outputs": [
        {
          "output_type": "stream",
          "text": [
            "hola mundo cruel\n"
          ],
          "name": "stdout"
        }
      ]
    },
    {
      "cell_type": "code",
      "metadata": {
        "id": "226bs-V8xMBn",
        "colab_type": "code",
        "outputId": "acbd0972-1926-477b-8d00-bd086d500a9f",
        "colab": {
          "base_uri": "https://localhost:8080/",
          "height": 34
        }
      },
      "source": [
        "!echo 'hola   mundo   cruel'"
      ],
      "execution_count": 0,
      "outputs": [
        {
          "output_type": "stream",
          "text": [
            "hola   mundo   cruel\n"
          ],
          "name": "stdout"
        }
      ]
    },
    {
      "cell_type": "code",
      "metadata": {
        "id": "-jTc6mD8xUS1",
        "colab_type": "code",
        "outputId": "437171df-1a26-4865-d712-1c8e61c15423",
        "colab": {
          "base_uri": "https://localhost:8080/",
          "height": 34
        }
      },
      "source": [
        "!echo \"hola   mundo   cruel\""
      ],
      "execution_count": 0,
      "outputs": [
        {
          "output_type": "stream",
          "text": [
            "hola   mundo   cruel\n"
          ],
          "name": "stdout"
        }
      ]
    },
    {
      "cell_type": "code",
      "metadata": {
        "id": "hYHLzPz3xXv-",
        "colab_type": "code",
        "outputId": "aa46ac2b-5ba6-429a-9f30-a24db526248b",
        "colab": {
          "base_uri": "https://localhost:8080/",
          "height": 68
        }
      },
      "source": [
        "## Imprimir varias líneas de texto\n",
        "## Forma 1\n",
        "!echo linea 1\n",
        "!echo linea 2\n",
        "!echo linea 3"
      ],
      "execution_count": 0,
      "outputs": [
        {
          "output_type": "stream",
          "text": [
            "linea 1\n",
            "linea 2\n",
            "linea 3\n"
          ],
          "name": "stdout"
        }
      ]
    },
    {
      "cell_type": "code",
      "metadata": {
        "id": "VD8Zz3q7xiww",
        "colab_type": "code",
        "outputId": "f84eff6a-34e2-4f47-8ce6-ea9c088ab935",
        "colab": {
          "base_uri": "https://localhost:8080/",
          "height": 34
        }
      },
      "source": [
        "## Forma 2 (con las comillas se respeta el espacio)\n",
        "## El operador \\ indica que la línea lógica continua en la siguiente línea física\n",
        "!echo 'linea 1 \\\n",
        "linea 2 \\\n",
        "linea 3'"
      ],
      "execution_count": 0,
      "outputs": [
        {
          "output_type": "stream",
          "text": [
            "linea 1 linea 2 linea 3\n"
          ],
          "name": "stdout"
        }
      ]
    },
    {
      "cell_type": "code",
      "metadata": {
        "id": "oCrMi0HKxxfg",
        "colab_type": "code",
        "outputId": "397bbb29-c1f5-4c1f-a416-a13fe6223e2c",
        "colab": {
          "base_uri": "https://localhost:8080/",
          "height": 68
        }
      },
      "source": [
        "## Forma 3\n",
        "## echo permite caracteres de escape precedidos por \\\n",
        "## se debe usar la bandera -e para convertir el \\n en saltos de línea\n",
        "!echo -e \"linea 1\\nlinea 2\\nlinea 3\""
      ],
      "execution_count": 0,
      "outputs": [
        {
          "output_type": "stream",
          "text": [
            "linea 1\n",
            "linea 2\n",
            "linea 3\n"
          ],
          "name": "stdout"
        }
      ]
    },
    {
      "cell_type": "code",
      "metadata": {
        "id": "8qTaGcnGzF0y",
        "colab_type": "code",
        "outputId": "de4b4810-625e-4cb7-c8be-0ad71dca0c41",
        "colab": {
          "base_uri": "https://localhost:8080/",
          "height": 34
        }
      },
      "source": [
        "## Impresión de texto usando printf\n",
        "## Sintaxis similar a C\n",
        "## %s indica cadena de caracteres\n",
        "## %f indica un número en punto flotante\n",
        "## %g indica un número entero\n",
        "!printf '%s ---- %f' 'hola mundo' 1.2345678"
      ],
      "execution_count": 24,
      "outputs": [
        {
          "output_type": "stream",
          "text": [
            "hola mundo ---- 1.234568"
          ],
          "name": "stdout"
        }
      ]
    },
    {
      "cell_type": "code",
      "metadata": {
        "id": "w-SOmSgU18NL",
        "colab_type": "code",
        "colab": {
          "base_uri": "https://localhost:8080/",
          "height": 34
        },
        "outputId": "c73ea472-7090-4c0e-b746-c585a31a2f4d"
      },
      "source": [
        "## Comandos magic\n",
        "## %%file\n",
        "## Escribir un archivo del parametro al lado de file, con las lineas que le especifico después\n",
        "%%file demo.txt\n",
        "hola mundo cruel\n",
        "Linea 2"
      ],
      "execution_count": 23,
      "outputs": [
        {
          "output_type": "stream",
          "text": [
            "Overwriting demo.txt\n"
          ],
          "name": "stdout"
        }
      ]
    },
    {
      "cell_type": "code",
      "metadata": {
        "id": "-DHuiB-v2pQ7",
        "colab_type": "code",
        "colab": {}
      },
      "source": [
        "%%bash## Ejecutar todas las líneas en la celda como línea de comando\n",
        "%%html## Igual a file pero en formato html\n",
        "%%javascript## Escribir para ejecutar javascript\n",
        "%%perl##Para procesamiento de palabras (regex)"
      ],
      "execution_count": 0,
      "outputs": []
    },
    {
      "cell_type": "code",
      "metadata": {
        "id": "yFoLXSTO37NR",
        "colab_type": "code",
        "colab": {
          "base_uri": "https://localhost:8080/",
          "height": 34
        },
        "outputId": "ae6b0ad8-bffc-403c-ea71-dd5dabfdbf03"
      },
      "source": [
        "## Para delimitar los caracteres a imprimir\n",
        "!printf '%15s ---- %8.2f' hola 1.2345678"
      ],
      "execution_count": 25,
      "outputs": [
        {
          "output_type": "stream",
          "text": [
            "           hola ----     1.23"
          ],
          "name": "stdout"
        }
      ]
    },
    {
      "cell_type": "code",
      "metadata": {
        "id": "xb4ceymf4G_-",
        "colab_type": "code",
        "colab": {
          "base_uri": "https://localhost:8080/",
          "height": 34
        },
        "outputId": "3f818cb4-5bb6-4131-8625-cf4c477c5b00"
      },
      "source": [
        "!printf '%15s --- %8.2f'  'hola mundo'   123.456789"
      ],
      "execution_count": 26,
      "outputs": [
        {
          "output_type": "stream",
          "text": [
            "     hola mundo ---   123.46"
          ],
          "name": "stdout"
        }
      ]
    },
    {
      "cell_type": "code",
      "metadata": {
        "id": "2vIhG0z44L-q",
        "colab_type": "code",
        "colab": {
          "base_uri": "https://localhost:8080/",
          "height": 34
        },
        "outputId": "2a54416a-3e81-4bf1-8695-ec44d463191d"
      },
      "source": [
        "## Magic bash\n",
        "%%bash\n",
        "echo hola \\\n",
        "mundo \\\n",
        "cruel"
      ],
      "execution_count": 27,
      "outputs": [
        {
          "output_type": "stream",
          "text": [
            "hola mundo cruel\n"
          ],
          "name": "stdout"
        }
      ]
    },
    {
      "cell_type": "code",
      "metadata": {
        "id": "fIuD-n0I4Twm",
        "colab_type": "code",
        "colab": {
          "base_uri": "https://localhost:8080/",
          "height": 102
        },
        "outputId": "d4008a6f-8488-4dde-caf7-d5b0cb67ef61"
      },
      "source": [
        "## Generar secuencias\n",
        "## seq\n",
        "!seq 5"
      ],
      "execution_count": 28,
      "outputs": [
        {
          "output_type": "stream",
          "text": [
            "1\n",
            "2\n",
            "3\n",
            "4\n",
            "5\n"
          ],
          "name": "stdout"
        }
      ]
    },
    {
      "cell_type": "code",
      "metadata": {
        "id": "8yoxpQB94fDy",
        "colab_type": "code",
        "colab": {
          "base_uri": "https://localhost:8080/",
          "height": 102
        },
        "outputId": "dc107314-2247-43f2-eb22-2cea1acf1ce0"
      },
      "source": [
        "## La opción -f permite especificar formato (como con printf)\n",
        "!seq -f \"linea %g\" 5"
      ],
      "execution_count": 29,
      "outputs": [
        {
          "output_type": "stream",
          "text": [
            "linea 1\n",
            "linea 2\n",
            "linea 3\n",
            "linea 4\n",
            "linea 5\n"
          ],
          "name": "stdout"
        }
      ]
    },
    {
      "cell_type": "code",
      "metadata": {
        "id": "KCpS3SOB4pir",
        "colab_type": "code",
        "colab": {
          "base_uri": "https://localhost:8080/",
          "height": 34
        },
        "outputId": "ba64d17e-4cfc-4e7c-e0bb-a4fd8809874e"
      },
      "source": [
        "## La opción -s permite indicar el separador (separador es ,)\n",
        "!seq -s, 2 2 10 ## Inicio, salto y final"
      ],
      "execution_count": 30,
      "outputs": [
        {
          "output_type": "stream",
          "text": [
            "2,4,6,8,10\n"
          ],
          "name": "stdout"
        }
      ]
    },
    {
      "cell_type": "code",
      "metadata": {
        "id": "OtHOg0Hp41MM",
        "colab_type": "code",
        "colab": {
          "base_uri": "https://localhost:8080/",
          "height": 68
        },
        "outputId": "12605f7b-05b4-4a7f-b01c-c28522c465b9"
      },
      "source": [
        "## La opción -w permite especificar el formato\n",
        "!seq -w 0 .05 .1"
      ],
      "execution_count": 31,
      "outputs": [
        {
          "output_type": "stream",
          "text": [
            "0.00\n",
            "0.05\n",
            "0.10\n"
          ],
          "name": "stdout"
        }
      ]
    },
    {
      "cell_type": "code",
      "metadata": {
        "id": "Xw5X_hgQ5DLa",
        "colab_type": "code",
        "colab": {}
      },
      "source": [
        "## Redireccionamiento\n",
        "## Entrada, salda y pipes\n",
        "## Salida en archivo en vez de pantalla > reescribe el archivo\n",
        "!echo hola mundo cruel > demo1.txt"
      ],
      "execution_count": 0,
      "outputs": []
    },
    {
      "cell_type": "code",
      "metadata": {
        "id": "3JrXfrQB58Zi",
        "colab_type": "code",
        "colab": {}
      },
      "source": [
        "## Salida añadiendo lineas de texto en el archivo\n",
        "!echo hola 2 >> demo1.txt"
      ],
      "execution_count": 0,
      "outputs": []
    },
    {
      "cell_type": "code",
      "metadata": {
        "id": "mQiuFIAu6ZkO",
        "colab_type": "code",
        "colab": {
          "base_uri": "https://localhost:8080/",
          "height": 51
        },
        "outputId": "4fd06f21-06da-46e3-fd5f-761bb55c18ef"
      },
      "source": [
        "## Visualizar el contenido de un archivo con cat\n",
        "!cat demo1.txt ## Imprimir contenido del archivo"
      ],
      "execution_count": 34,
      "outputs": [
        {
          "output_type": "stream",
          "text": [
            "hola mundo cruel\n",
            "hola 2\n"
          ],
          "name": "stdout"
        }
      ]
    },
    {
      "cell_type": "code",
      "metadata": {
        "id": "GDgoFDWS6r4d",
        "colab_type": "code",
        "colab": {}
      },
      "source": [
        "## El comando echo sin argumentos permite crear un archivo vacío como touch\n",
        "!echo > out.1"
      ],
      "execution_count": 0,
      "outputs": []
    },
    {
      "cell_type": "code",
      "metadata": {
        "id": "Rm198FF77Op2",
        "colab_type": "code",
        "colab": {}
      },
      "source": [
        "## Almacenar la siguiente información\n",
        "## CustomerID, Customer\n",
        "##  1, Customer A\n",
        "##  2, Customer B\n",
        "## Forma 1\n",
        "%%bash \n",
        "echo \"CustomerID, Customer\n",
        "      1, Customer A\n",
        "      2, Customer B\" > out.2"
      ],
      "execution_count": 0,
      "outputs": []
    },
    {
      "cell_type": "code",
      "metadata": {
        "id": "DxhdzBJJ79-u",
        "colab_type": "code",
        "colab": {
          "base_uri": "https://localhost:8080/",
          "height": 68
        },
        "outputId": "6ba865ca-469a-4555-993d-b47f09dba305"
      },
      "source": [
        "!cat out.2"
      ],
      "execution_count": 38,
      "outputs": [
        {
          "output_type": "stream",
          "text": [
            "CustomerID, Customer\n",
            "      1, Customer A\n",
            "      2, Customer B\n"
          ],
          "name": "stdout"
        }
      ]
    },
    {
      "cell_type": "code",
      "metadata": {
        "id": "W7uELjIT8Rcb",
        "colab_type": "code",
        "colab": {}
      },
      "source": [
        "## Forma 2\n",
        "## El contenido del archivo se escrbe entre << EOF y EOF\n",
        "## El principal uso de cat es la concatenación de archivos\n",
        "%%bash\n",
        "cat > out.1 <<EOF\n",
        "CustomerID, CustomerID\n",
        "1, Customer A\n",
        "2, Customer B\n",
        "EOF"
      ],
      "execution_count": 0,
      "outputs": []
    },
    {
      "cell_type": "code",
      "metadata": {
        "id": "84-pwqnm8qD_",
        "colab_type": "code",
        "colab": {
          "base_uri": "https://localhost:8080/",
          "height": 68
        },
        "outputId": "64f69d9d-b5ee-41b9-89d1-d4d1a4f20b0f"
      },
      "source": [
        "!cat out.1"
      ],
      "execution_count": 40,
      "outputs": [
        {
          "output_type": "stream",
          "text": [
            "CustomerID, CustomerID\n",
            "1, Customer A\n",
            "2, Customer B\n"
          ],
          "name": "stdout"
        }
      ]
    },
    {
      "cell_type": "code",
      "metadata": {
        "id": "ZMsmrPg58sZD",
        "colab_type": "code",
        "colab": {
          "base_uri": "https://localhost:8080/",
          "height": 170
        },
        "outputId": "d9bd48d5-3298-4379-fe17-4efe34bba574"
      },
      "source": [
        "## Unir archivos con cat\n",
        "%%bash\n",
        "seq -f \"linea %g\" 1 1 3 > out1.txt\n",
        "seq -f \"linea %g\" 4 1 6 > out2.txt\n",
        "seq -f \"linea %g\" 7 1 9 > out3.txt\n",
        "cat out1.txt out2.txt out3.txt"
      ],
      "execution_count": 41,
      "outputs": [
        {
          "output_type": "stream",
          "text": [
            "linea 1\n",
            "linea 2\n",
            "linea 3\n",
            "linea 4\n",
            "linea 5\n",
            "linea 6\n",
            "linea 7\n",
            "linea 8\n",
            "linea 9\n"
          ],
          "name": "stdout"
        }
      ]
    },
    {
      "cell_type": "code",
      "metadata": {
        "id": "PV-nPgfF9XfF",
        "colab_type": "code",
        "colab": {
          "base_uri": "https://localhost:8080/",
          "height": 68
        },
        "outputId": "5d1a41cd-baed-494b-99f6-7cb1a2c9f12d"
      },
      "source": [
        "## Con head veo las 10 primeras lineas\n",
        "## Pero con la bandera -n puedo indicar cuantas lineas quiero ver\n",
        "%%bash\n",
        "seq -f \"linea %g\" 100 > out.1 ## Generar 100 lineas\n",
        "head -n 3 out.1"
      ],
      "execution_count": 42,
      "outputs": [
        {
          "output_type": "stream",
          "text": [
            "linea 1\n",
            "linea 2\n",
            "linea 3\n"
          ],
          "name": "stdout"
        }
      ]
    },
    {
      "cell_type": "code",
      "metadata": {
        "id": "Aw72d-iS9kve",
        "colab_type": "code",
        "colab": {
          "base_uri": "https://localhost:8080/",
          "height": 68
        },
        "outputId": "fb390a3c-3a62-47ba-e4e9-c8ecc28b65e7"
      },
      "source": [
        "## Con tail veo las 10 últimas lineas\n",
        "## Pero con la bandera -n puedo indicar cuantas lineas quiero ver\n",
        "!tail -n 3 out.1"
      ],
      "execution_count": 44,
      "outputs": [
        {
          "output_type": "stream",
          "text": [
            "linea 98\n",
            "linea 99\n",
            "linea 100\n"
          ],
          "name": "stdout"
        }
      ]
    },
    {
      "cell_type": "code",
      "metadata": {
        "id": "ZLvgqupF-Il3",
        "colab_type": "code",
        "colab": {
          "base_uri": "https://localhost:8080/",
          "height": 51
        },
        "outputId": "4fe86ffe-c8bd-41a6-bcaf-e196b74c8620"
      },
      "source": [
        "## El argumento +5 indica que se imprime desde la línea 5 hasta el final\n",
        "%%bash\n",
        "seq -f'linea %g' 6 > out.1\n",
        "tail +5 out.1"
      ],
      "execution_count": 45,
      "outputs": [
        {
          "output_type": "stream",
          "text": [
            "linea 5\n",
            "linea 6\n"
          ],
          "name": "stdout"
        }
      ]
    },
    {
      "cell_type": "code",
      "metadata": {
        "id": "JhjrLQMH-4qz",
        "colab_type": "code",
        "colab": {
          "base_uri": "https://localhost:8080/",
          "height": 153
        },
        "outputId": "24f43c03-166f-4118-f6f7-c9a8aae7d8aa"
      },
      "source": [
        "## Me lista los archivos del directorio actual con un registro por linea (-1)\n",
        "!ls -1 "
      ],
      "execution_count": 46,
      "outputs": [
        {
          "output_type": "stream",
          "text": [
            "demo1.txt\n",
            "demo.txt\n",
            "out.1\n",
            "out1.txt\n",
            "out.2\n",
            "out2.txt\n",
            "out3.txt\n",
            "sample_data\n"
          ],
          "name": "stdout"
        }
      ]
    },
    {
      "cell_type": "code",
      "metadata": {
        "id": "CD17BJCg_JeQ",
        "colab_type": "code",
        "colab": {
          "base_uri": "https://localhost:8080/",
          "height": 54
        },
        "outputId": "04e207e7-4f97-4125-c1aa-e2e0babaad84"
      },
      "source": [
        "x = !ls -1\n",
        "print(x)"
      ],
      "execution_count": 48,
      "outputs": [
        {
          "output_type": "stream",
          "text": [
            "['demo1.txt', 'demo.txt', 'out.1', 'out1.txt', 'out.2', 'out2.txt', 'out3.txt', 'sample_data']\n"
          ],
          "name": "stdout"
        }
      ]
    },
    {
      "cell_type": "code",
      "metadata": {
        "id": "pkeeiNFD_g0V",
        "colab_type": "code",
        "colab": {
          "base_uri": "https://localhost:8080/",
          "height": 119
        },
        "outputId": "aa128c66-3d61-4ce9-ada4-784b555f852a"
      },
      "source": [
        "## Visualizar contenido de un archivo\n",
        "## less \"nombrearchivo\"\n",
        "!less demo.txt"
      ],
      "execution_count": 49,
      "outputs": [
        {
          "output_type": "stream",
          "text": [
            "\u001b7\u001b[?47h\u001b[?1h\u001b=\rhola mundo cruel\r\n",
            "Linea 2\r\n",
            "## %%html\r\n",
            "## Igual a file pero en formato html\r\n",
            "%%html linea1, linea 2\n",
            "\u001b[K\u001b[?1l\u001b>\u001b[2J\u001b[?47l\u001b8"
          ],
          "name": "stdout"
        }
      ]
    },
    {
      "cell_type": "code",
      "metadata": {
        "id": "CTamPnkN_0wJ",
        "colab_type": "code",
        "colab": {
          "base_uri": "https://localhost:8080/",
          "height": 170
        },
        "outputId": "907c33da-b876-411f-958f-8b8c5fcc64f4"
      },
      "source": [
        "## Ordenar archivo con sort\n",
        "## El operador | permite que la salida de un lado se le pase al otro\n",
        "## comando1 | comando2\n",
        "%%bash\n",
        "seq -f \"linea %g\" 3 > out.txt\n",
        "cat out.txt out.txt out.txt | sort > ordenado.txt\n",
        "cat ordenado.txt"
      ],
      "execution_count": 51,
      "outputs": [
        {
          "output_type": "stream",
          "text": [
            "linea 1\n",
            "linea 1\n",
            "linea 1\n",
            "linea 2\n",
            "linea 2\n",
            "linea 2\n",
            "linea 3\n",
            "linea 3\n",
            "linea 3\n"
          ],
          "name": "stdout"
        }
      ]
    },
    {
      "cell_type": "code",
      "metadata": {
        "id": "H2knMzbsAg6U",
        "colab_type": "code",
        "colab": {
          "base_uri": "https://localhost:8080/",
          "height": 1000
        },
        "outputId": "3c1c765f-7c55-4c40-9fb8-846effa8fca0"
      },
      "source": [
        "## Leer documentación de sort\n",
        "!man sort"
      ],
      "execution_count": 53,
      "outputs": [
        {
          "output_type": "stream",
          "text": [
            "SORT(1POSIX)               POSIX Programmer's Manual              SORT(1POSIX)\n",
            "\n",
            "P\bPR\bRO\bOL\bLO\bOG\bG\n",
            "       This  manual  page is part of the POSIX Programmer's Manual.  The Linux\n",
            "       implementation of this interface may differ (consult the  corresponding\n",
            "       Linux  manual page for details of Linux behavior), or the interface may\n",
            "       not be implemented on Linux.\n",
            "\n",
            "N\bNA\bAM\bME\bE\n",
            "       sort — sort, merge, or sequence check text files\n",
            "\n",
            "S\bSY\bYN\bNO\bOP\bPS\bSI\bIS\bS\n",
            "       sort [\b[−m]\b] [\b[−o _\bo_\bu_\bt_\bp_\bu_\bt]\b] [\b[−bdfinru]\b] [\b[−t _\bc_\bh_\ba_\br]\b] [\b[−k _\bk_\be_\by_\bd_\be_\bf]\b]... [\b[_\bf_\bi_\bl_\be...]\b]\n",
            "\n",
            "       sort [\b[−c|−C]\b] [\b[−bdfinru]\b] [\b[−t _\bc_\bh_\ba_\br]\b] [\b[−k _\bk_\be_\by_\bd_\be_\bf]\b] [\b[_\bf_\bi_\bl_\be]\b]\n",
            "\n",
            "D\bDE\bES\bSC\bCR\bRI\bIP\bPT\bTI\bIO\bON\bN\n",
            "       The _\bs_\bo_\br_\bt utility shall perform one of the following functions:\n",
            "\n",
            "        1. Sort lines of all the named files together and write the result  to\n",
            "           the specified output.\n",
            "\n",
            "        2. Merge  lines  of all the named (presorted) files together and write\n",
            "           the result to the specified output.\n",
            "\n",
            "        3. Check that a single input file is correctly presorted.\n",
            "\n",
            "       Comparisons shall be based on one or more sort keys extracted from each\n",
            "       line  of  input  (or, if no sort keys are specified, the entire line up\n",
            "       to, but not including, the terminating <newline>), and  shall  be  per‐\n",
            "       formed using the collating sequence of the current locale.\n",
            "\n",
            "O\bOP\bPT\bTI\bIO\bON\bNS\bS\n",
            "       The  _\bs_\bo_\br_\bt  utility  shall  conform  to  the  Base Definitions volume of\n",
            "       POSIX.1‐2008, _\bS_\be_\bc_\bt_\bi_\bo_\bn  _\b1_\b2_\b._\b2,  _\bU_\bt_\bi_\bl_\bi_\bt_\by  _\bS_\by_\bn_\bt_\ba_\bx  _\bG_\bu_\bi_\bd_\be_\bl_\bi_\bn_\be_\bs,  except  for\n",
            "       Guideline 9, and the −\b−k\bk _\bk_\be_\by_\bd_\be_\bf option should follow the −\b−b\bb, −\b−d\bd, −\b−f\bf, −\b−i\bi,\n",
            "       −\b−n\bn, and −\b−r\br options. In addition, '\b'+\b+'\b' may be  recognized  as  an  option\n",
            "       delimiter as well as '\b'−\b−'\b'.\n",
            "\n",
            "       The following options shall be supported:\n",
            "\n",
            "       −\b−c\bc        Check  that  the single input file is ordered as specified by\n",
            "                 the arguments and  the  collating  sequence  of  the  current\n",
            "                 locale. Output shall not be sent to standard output. The exit\n",
            "                 code shall indicate whether or not disorder was  detected  or\n",
            "                 an error occurred. If disorder (or, with −\b−u\bu, a duplicate key)\n",
            "                 is detected, a warning message  shall  be  sent  to  standard\n",
            "                 error  indicating  where  the  disorder  or duplicate key was\n",
            "                 found.\n",
            "\n",
            "       −\b−C\bC        Same as −\b−c\bc, except that a warning message shall not  be  sent\n",
            "                 to standard error if disorder or, with −\b−u\bu, a duplicate key is\n",
            "                 detected.\n",
            "\n",
            "       −\b−m\bm        Merge only; the input file shall be  assumed  to  be  already\n",
            "                 sorted.\n",
            "\n",
            "       −\b−o\bo _\bo_\bu_\bt_\bp_\bu_\bt Specify  the name of an output file to be used instead of the\n",
            "                 standard output. This file can be the  same  as  one  of  the\n",
            "                 input _\bf_\bi_\bl_\bes.\n",
            "\n",
            "       −\b−u\bu        Unique:  suppress  all  but  one  in each set of lines having\n",
            "                 equal keys.  If used with the −\b−c\bc option, check that there are\n",
            "                 no  lines  with  duplicate keys, in addition to checking that\n",
            "                 the input file is sorted.\n",
            "\n",
            "       The following options shall override the default ordering  rules.  When\n",
            "       ordering  options  appear  independent of any key field specifications,\n",
            "       the requested field ordering rules shall be  applied  globally  to  all\n",
            "       sort  keys.  When  attached  to  a specific key (see −\b−k\bk), the specified\n",
            "       ordering options shall override all global ordering  options  for  that\n",
            "       key.\n",
            "\n",
            "       −\b−d\bd        Specify that only <blank> characters and alphanumeric charac‐\n",
            "                 ters, according to the current setting of _\bL_\bC_\b__\bC_\bT_\bY_\bP_\bE, shall  be\n",
            "                 significant  in  comparisons. The behavior is undefined for a\n",
            "                 sort key to which −\b−i\bi or −\b−n\bn also applies.\n",
            "\n",
            "       −\b−f\bf        Consider all lowercase characters that have uppercase equiva‐\n",
            "                 lents,  according  to  the current setting of _\bL_\bC_\b__\bC_\bT_\bY_\bP_\bE, to be\n",
            "                 the uppercase equivalent for the purposes of comparison.\n",
            "\n",
            "       −\b−i\bi        Ignore all characters that are  non-printable,  according  to\n",
            "                 the  current  setting of _\bL_\bC_\b__\bC_\bT_\bY_\bP_\bE.  The behavior is undefined\n",
            "                 for a sort key for which −\b−n\bn also applies.\n",
            "\n",
            "       −\b−n\bn        Restrict the sort key to an initial numeric string,  consist‐\n",
            "                 ing  of optional <blank> characters, optional minus-sign, and\n",
            "                 zero or more digits with  an  optional  radix  character  and\n",
            "                 thousands  separators  (as  defined  in  the current locale),\n",
            "                 which shall be sorted by arithmetic  value.  An  empty  digit\n",
            "                 string  shall  be treated as zero. Leading zeros and signs on\n",
            "                 zeros shall not affect ordering.\n",
            "\n",
            "       −\b−r\br        Reverse the sense of comparisons.\n",
            "\n",
            "       The treatment of field separators can be altered using the options:\n",
            "\n",
            "       −\b−b\bb        Ignore leading <blank> characters when determining the start‐\n",
            "                 ing  and ending positions of a restricted sort key. If the −\b−b\bb\n",
            "                 option is specified before the first −\b−k\bk option, it  shall  be\n",
            "                 applied  to  all  −\b−k\bk options. Otherwise, the −\b−b\bb option can be\n",
            "                 attached independently to each −\b−k\bk  _\bf_\bi_\be_\bl_\bd_\b__\bs_\bt_\ba_\br_\bt  or  _\bf_\bi_\be_\bl_\bd_\b__\be_\bn_\bd\n",
            "                 option-argument (see below).\n",
            "\n",
            "       −\b−t\bt _\bc_\bh_\ba_\br   Use  _\bc_\bh_\ba_\br as the field separator character; _\bc_\bh_\ba_\br shall not be\n",
            "                 considered to be part of a field (although it can be included\n",
            "                 in  a sort key). Each occurrence of _\bc_\bh_\ba_\br shall be significant\n",
            "                 (for example, <_\bc_\bh_\ba_\br><_\bc_\bh_\ba_\br> delimits an empty field). If −\b−t\bt is\n",
            "                 not  specified,  <blank>  characters shall be used as default\n",
            "                 field separators; each maximal non-empty sequence of  <blank>\n",
            "                 characters  that follows a non-<blank> shall be a field sepa‐\n",
            "                 rator.\n",
            "\n",
            "       Sort keys can be specified using the options:\n",
            "\n",
            "       −\b−k\bk _\bk_\be_\by_\bd_\be_\bf The _\bk_\be_\by_\bd_\be_\bf argument is a restricted sort  key  field  defini‐\n",
            "                 tion. The format of this definition is:\n",
            "\n",
            "                     _\bf_\bi_\be_\bl_\bd_\b__\bs_\bt_\ba_\br_\bt[\b[_\bt_\by_\bp_\be]\b][\b[,_\bf_\bi_\be_\bl_\bd_\b__\be_\bn_\bd[\b[_\bt_\by_\bp_\be]\b]]\b]\n",
            "\n",
            "                 where _\bf_\bi_\be_\bl_\bd_\b__\bs_\bt_\ba_\br_\bt and _\bf_\bi_\be_\bl_\bd_\b__\be_\bn_\bd define a key field restricted\n",
            "                 to a portion of the line (see the EXTENDED  DESCRIPTION  sec‐\n",
            "                 tion),  and  _\bt_\by_\bp_\be  is  a modifier from the list of characters\n",
            "                 '\b'b\bb'\b', '\b'd\bd'\b', '\b'f\bf'\b', '\b'i\bi'\b', '\b'n\bn'\b', '\b'r\br'\b'.  The '\b'b\bb'\b' modifier shall  behave\n",
            "                 like  the  −\b−b\bb option, but shall apply only to the _\bf_\bi_\be_\bl_\bd_\b__\bs_\bt_\ba_\br_\bt\n",
            "                 or _\bf_\bi_\be_\bl_\bd_\b__\be_\bn_\bd to which it is  attached.  The  other  modifiers\n",
            "                 shall  behave like the corresponding options, but shall apply\n",
            "                 only to the key field to which they are attached; they  shall\n",
            "                 have this effect if specified with _\bf_\bi_\be_\bl_\bd_\b__\bs_\bt_\ba_\br_\bt, _\bf_\bi_\be_\bl_\bd_\b__\be_\bn_\bd, or\n",
            "                 both. If any modifier is attached to a _\bf_\bi_\be_\bl_\bd_\b__\bs_\bt_\ba_\br_\bt  or  to  a\n",
            "                 _\bf_\bi_\be_\bl_\bd_\b__\be_\bn_\bd,  no  option shall apply to either. Implementations\n",
            "                 shall support at least nine occurrences  of  the  −\b−k\bk  option,\n",
            "                 which  shall  be  significant in command line order. If no −\b−k\bk\n",
            "                 option is specified, a default sort key of  the  entire  line\n",
            "                 shall be used.\n",
            "\n",
            "                 When  there are multiple key fields, later keys shall be com‐\n",
            "                 pared only after all earlier keys compare equal. Except  when\n",
            "                 the  −\b−u\bu  option  is  specified,  lines that otherwise compare\n",
            "                 equal shall be ordered as if none of the options −\b−d\bd, −\b−f\bf,  −\b−i\bi,\n",
            "                 −\b−n\bn,  or  −\b−k\bk  were present (but with −\b−r\br still in effect, if it\n",
            "                 was specified) and with all bytes in the lines significant to\n",
            "                 the  comparison.  The order in which lines that still compare\n",
            "                 equal are written is unspecified.\n",
            "\n",
            "O\bOP\bPE\bER\bRA\bAN\bND\bDS\bS\n",
            "       The following operand shall be supported:\n",
            "\n",
            "       _\bf_\bi_\bl_\be      A pathname of a file to be sorted, merged, or checked. If  no\n",
            "                 _\bf_\bi_\bl_\be operands are specified, or if a _\bf_\bi_\bl_\be operand is '\b'−\b−'\b', the\n",
            "                 standard input shall be used.\n",
            "\n",
            "S\bST\bTD\bDI\bIN\bN\n",
            "       The standard input shall be used only if no _\bf_\bi_\bl_\be  operands  are  speci‐\n",
            "       fied, or if a _\bf_\bi_\bl_\be operand is '\b'−\b−'\b'.  See the INPUT FILES section.\n",
            "\n",
            "I\bIN\bNP\bPU\bUT\bT F\bFI\bIL\bLE\bES\bS\n",
            "       The input files shall be text files, except that the _\bs_\bo_\br_\bt utility shall\n",
            "       add a <newline> to the end of a file ending  with  an  incomplete  last\n",
            "       line.\n",
            "\n",
            "E\bEN\bNV\bVI\bIR\bRO\bON\bNM\bME\bEN\bNT\bT V\bVA\bAR\bRI\bIA\bAB\bBL\bLE\bES\bS\n",
            "       The following environment variables shall affect the execution of _\bs_\bo_\br_\bt:\n",
            "\n",
            "       _\bL_\bA_\bN_\bG      Provide  a  default  value for the internationalization vari‐\n",
            "                 ables that are unset or null. (See the Base Definitions  vol‐\n",
            "                 ume  of POSIX.1‐2008, _\bS_\be_\bc_\bt_\bi_\bo_\bn _\b8_\b._\b2, _\bI_\bn_\bt_\be_\br_\bn_\ba_\bt_\bi_\bo_\bn_\ba_\bl_\bi_\bz_\ba_\bt_\bi_\bo_\bn _\bV_\ba_\br_\bi_\b‐\n",
            "                 _\ba_\bb_\bl_\be_\bs for the precedence  of  internationalization  variables\n",
            "                 used to determine the values of locale categories.)\n",
            "\n",
            "       _\bL_\bC_\b__\bA_\bL_\bL    If  set  to  a non-empty string value, override the values of\n",
            "                 all the other internationalization variables.\n",
            "\n",
            "       _\bL_\bC_\b__\bC_\bO_\bL_\bL_\bA_\bT_\bE\n",
            "                 Determine the locale for ordering rules.\n",
            "\n",
            "       _\bL_\bC_\b__\bC_\bT_\bY_\bP_\bE  Determine the locale for the interpretation of  sequences  of\n",
            "                 bytes of text data as characters (for example, single-byte as\n",
            "                 opposed to  multi-byte  characters  in  arguments  and  input\n",
            "                 files)  and  the behavior of character classification for the\n",
            "                 −\b−b\bb, −\b−d\bd, −\b−f\bf, −\b−i\bi, and −\b−n\bn options.\n",
            "\n",
            "       _\bL_\bC_\b__\bM_\bE_\bS_\bS_\bA_\bG_\bE_\bS\n",
            "                 Determine the locale that should be used to affect the format\n",
            "                 and  contents  of  diagnostic  messages  written  to standard\n",
            "                 error.\n",
            "\n",
            "       _\bL_\bC_\b__\bN_\bU_\bM_\bE_\bR_\bI_\bC\n",
            "                 Determine the locale for the definition of the radix  charac‐\n",
            "                 ter and thousands separator for the −\b−n\bn option.\n",
            "\n",
            "       _\bN_\bL_\bS_\bP_\bA_\bT_\bH   Determine the location of message catalogs for the processing\n",
            "                 of _\bL_\bC_\b__\bM_\bE_\bS_\bS_\bA_\bG_\bE_\bS.\n",
            "\n",
            "A\bAS\bSY\bYN\bNC\bCH\bHR\bRO\bON\bNO\bOU\bUS\bS E\bEV\bVE\bEN\bNT\bTS\bS\n",
            "       Default.\n",
            "\n",
            "S\bST\bTD\bDO\bOU\bUT\bT\n",
            "       Unless the −\b−o\bo or −\b−c\bc options are in effect, the  standard  output  shall\n",
            "       contain the sorted input.\n",
            "\n",
            "S\bST\bTD\bDE\bER\bRR\bR\n",
            "       The  standard  error  shall be used for diagnostic messages. When −\b−c\bc is\n",
            "       specified, if disorder is detected (or if −\b−u\bu is also  specified  and  a\n",
            "       duplicate  key is detected), a message shall be written to the standard\n",
            "       error which identifies the input line at which disorder (or a duplicate\n",
            "       key)  was  detected.  A  warning message about correcting an incomplete\n",
            "       last line of an input file may be generated, but need  not  affect  the\n",
            "       final exit status.\n",
            "\n",
            "O\bOU\bUT\bTP\bPU\bUT\bT F\bFI\bIL\bLE\bES\bS\n",
            "       If the −\b−o\bo option is in effect, the sorted input shall be written to the\n",
            "       file _\bo_\bu_\bt_\bp_\bu_\bt.\n",
            "\n",
            "E\bEX\bXT\bTE\bEN\bND\bDE\bED\bD D\bDE\bES\bSC\bCR\bRI\bIP\bPT\bTI\bIO\bON\bN\n",
            "       The notation:\n",
            "\n",
            "           −\b−k\bk _\bf_\bi_\be_\bl_\bd_\b__\bs_\bt_\ba_\br_\bt[\b[_\bt_\by_\bp_\be]\b][\b[,_\bf_\bi_\be_\bl_\bd_\b__\be_\bn_\bd[\b[_\bt_\by_\bp_\be]\b]]\b]\n",
            "\n",
            "       shall define a key  field  that  begins  at  _\bf_\bi_\be_\bl_\bd_\b__\bs_\bt_\ba_\br_\bt  and  ends  at\n",
            "       _\bf_\bi_\be_\bl_\bd_\b__\be_\bn_\bd  inclusive,  unless  _\bf_\bi_\be_\bl_\bd_\b__\bs_\bt_\ba_\br_\bt  falls beyond the end of the\n",
            "       line or after _\bf_\bi_\be_\bl_\bd_\b__\be_\bn_\bd, in which case the key field is empty. A  miss‐\n",
            "       ing _\bf_\bi_\be_\bl_\bd_\b__\be_\bn_\bd shall mean the last character of the line.\n",
            "\n",
            "       A  field comprises a maximal sequence of non-separating characters and,\n",
            "       in the absence of option −\b−t\bt, any preceding field separator.\n",
            "\n",
            "       The _\bf_\bi_\be_\bl_\bd_\b__\bs_\bt_\ba_\br_\bt portion of the _\bk_\be_\by_\bd_\be_\bf option-argument  shall  have  the\n",
            "       form:\n",
            "\n",
            "           _\bf_\bi_\be_\bl_\bd_\b__\bn_\bu_\bm_\bb_\be_\br[\b[._\bf_\bi_\br_\bs_\bt_\b__\bc_\bh_\ba_\br_\ba_\bc_\bt_\be_\br]\b]\n",
            "\n",
            "       Fields  and characters within fields shall be numbered starting with 1.\n",
            "       The _\bf_\bi_\be_\bl_\bd_\b__\bn_\bu_\bm_\bb_\be_\br and _\bf_\bi_\br_\bs_\bt_\b__\bc_\bh_\ba_\br_\ba_\bc_\bt_\be_\br pieces,  interpreted  as  positive\n",
            "       decimal  integers, shall specify the first character to be used as part\n",
            "       of a sort key. If _\b._\bf_\bi_\br_\bs_\bt_\b__\bc_\bh_\ba_\br_\ba_\bc_\bt_\be_\br is omitted, it shall  refer  to  the\n",
            "       first character of the field.\n",
            "\n",
            "       The  _\bf_\bi_\be_\bl_\bd_\b__\be_\bn_\bd  portion  of  the  _\bk_\be_\by_\bd_\be_\bf option-argument shall have the\n",
            "       form:\n",
            "\n",
            "           _\bf_\bi_\be_\bl_\bd_\b__\bn_\bu_\bm_\bb_\be_\br[\b[._\bl_\ba_\bs_\bt_\b__\bc_\bh_\ba_\br_\ba_\bc_\bt_\be_\br]\b]\n",
            "\n",
            "       The _\bf_\bi_\be_\bl_\bd_\b__\bn_\bu_\bm_\bb_\be_\br shall be as  described  above  for  _\bf_\bi_\be_\bl_\bd_\b__\bs_\bt_\ba_\br_\bt_\b.   The\n",
            "       _\bl_\ba_\bs_\bt_\b__\bc_\bh_\ba_\br_\ba_\bc_\bt_\be_\br  piece,  interpreted  as a non-negative decimal integer,\n",
            "       shall specify the last character to be used as part of the sort key. If\n",
            "       _\bl_\ba_\bs_\bt_\b__\bc_\bh_\ba_\br_\ba_\bc_\bt_\be_\br  evaluates  to  zero  or  _\b._\bl_\ba_\bs_\bt_\b__\bc_\bh_\ba_\br_\ba_\bc_\bt_\be_\br is omitted, it\n",
            "       shall refer to the last character of the field specified by  _\bf_\bi_\be_\bl_\bd_\b__\bn_\bu_\bm_\b‐\n",
            "       _\bb_\be_\br.\n",
            "\n",
            "       If  the  −\b−b\bb option or b\bb type modifier is in effect, characters within a\n",
            "       field shall be counted from the first non-<blank> in the  field.  (This\n",
            "       shall apply separately to _\bf_\bi_\br_\bs_\bt_\b__\bc_\bh_\ba_\br_\ba_\bc_\bt_\be_\br and _\bl_\ba_\bs_\bt_\b__\bc_\bh_\ba_\br_\ba_\bc_\bt_\be_\br.)\n",
            "\n",
            "E\bEX\bXI\bIT\bT S\bST\bTA\bAT\bTU\bUS\bS\n",
            "       The following exit values shall be returned:\n",
            "\n",
            "        0    All input files were output successfully, or −\b−c\bc was specified and\n",
            "             the input file was correctly sorted.\n",
            "\n",
            "        1    Under the −\b−c\bc option, the file was not ordered as specified, or if\n",
            "             the  −\b−c\bc  and −\b−u\bu options were both specified, two input lines were\n",
            "             found with equal keys.\n",
            "\n",
            "       >1    An error occurred.\n",
            "\n",
            "C\bCO\bON\bNS\bSE\bEQ\bQU\bUE\bEN\bNC\bCE\bES\bS O\bOF\bF E\bER\bRR\bRO\bOR\bRS\bS\n",
            "       Default.\n",
            "\n",
            "       _\bT_\bh_\be _\bf_\bo_\bl_\bl_\bo_\bw_\bi_\bn_\bg _\bs_\be_\bc_\bt_\bi_\bo_\bn_\bs _\ba_\br_\be _\bi_\bn_\bf_\bo_\br_\bm_\ba_\bt_\bi_\bv_\be_\b.\n",
            "\n",
            "A\bAP\bPP\bPL\bLI\bIC\bCA\bAT\bTI\bIO\bON\bN U\bUS\bSA\bAG\bGE\bE\n",
            "       The default value for −\b−t\bt, <blank>, has different properties  from,  for\n",
            "       example, −\b−t\bt\"<space>\". If a line contains:\n",
            "\n",
            "           <\b<s\bsp\bpa\bac\bce\be>\b><\b<s\bsp\bpa\bac\bce\be>\b>f\bfo\boo\bo\n",
            "\n",
            "       the  following treatment would occur with default separation as opposed\n",
            "       to specifically selecting a <space>:\n",
            "\n",
            "                     ┌──────┬───────────────────┬──────────────┐\n",
            "                     │F\bFi\bie\bel\bld\bd │      D\bDe\bef\bfa\bau\bul\blt\bt      │ −\b−t\bt \"\b\"<\b<s\bsp\bpa\bac\bce\be>\b>\"\b\" │\n",
            "                     ├──────┼───────────────────┼──────────────┤\n",
            "                     │  1   │ <space><space>foo │ _\be_\bm_\bp_\bt_\by        │\n",
            "                     │  2   │ _\be_\bm_\bp_\bt_\by             │ _\be_\bm_\bp_\bt_\by        │\n",
            "                     │  3   │ _\be_\bm_\bp_\bt_\by             │ foo          │\n",
            "                     └──────┴───────────────────┴──────────────┘\n",
            "       The leading field separator itself is included in a field  when  −\b−t\bt  is\n",
            "       not  used.  For  example,  this command returns an exit status of zero,\n",
            "       meaning the input was already sorted:\n",
            "\n",
            "           s\bso\bor\brt\bt −\b−c\bc −\b−k\bk 2\b2 <\b<<\b<e\beo\bof\bf\n",
            "           y\by<\b<t\bta\bab\bb>\b>b\bb\n",
            "           x\bx<\b<s\bsp\bpa\bac\bce\be>\b>a\ba\n",
            "           e\beo\bof\bf\n",
            "\n",
            "       (assuming that a <tab> precedes the <space> in  the  current  collating\n",
            "       sequence).  The  field  separator is not included in a field when it is\n",
            "       explicitly set via −\b−t\bt.  This is historical practice  and  allows  usage\n",
            "       such as:\n",
            "\n",
            "           s\bso\bor\brt\bt −\b−t\bt \"\b\"|\b|\"\b\" −\b−k\bk 2\b2n\bn <\b<<\b<e\beo\bof\bf\n",
            "           A\bAt\btl\bla\ban\bnt\bta\ba|\b|4\b42\b25\b50\b02\b22\b2|\b|G\bGe\beo\bor\brg\bgi\bia\ba\n",
            "           B\bBi\bir\brm\bmi\bin\bng\bgh\bha\bam\bm|\b|2\b28\b84\b44\b41\b13\b3|\b|A\bAl\bla\bab\bba\bam\bma\ba\n",
            "           C\bCo\bol\blu\bum\bmb\bbi\bia\ba|\b|1\b10\b00\b03\b38\b85\b5|\b|S\bSo\bou\but\bth\bh C\bCa\bar\bro\bol\bli\bin\bna\ba\n",
            "           e\beo\bof\bf\n",
            "\n",
            "       where  the  second  field  can  be correctly sorted numerically without\n",
            "       regard to the non-numeric field separator.\n",
            "\n",
            "       The wording in the OPTIONS section clarifies that the −\b−b\bb, −\b−d\bd,  −\b−f\bf,  −\b−i\bi,\n",
            "       −\b−n\bn,  and −\b−r\br options have to come before the first sort key specified if\n",
            "       they are intended to apply  to  all  specified  keys.  The  way  it  is\n",
            "       described  in  this volume of POSIX.1‐2008 matches historical practice,\n",
            "       not historical documentation.  The results  are  unspecified  if  these\n",
            "       options are specified after a −\b−k\bk option.\n",
            "\n",
            "       The  −\b−f\bf option might not work as expected in locales where there is not\n",
            "       a one-to-one mapping between an uppercase and a lowercase letter.\n",
            "\n",
            "E\bEX\bXA\bAM\bMP\bPL\bLE\bES\bS\n",
            "        1. The following command sorts the contents of i\bin\bnf\bfi\bil\ble\be with the  second\n",
            "           field as the sort key:\n",
            "\n",
            "               s\bso\bor\brt\bt −\b−k\bk 2\b2,\b,2\b2 i\bin\bnf\bfi\bil\ble\be\n",
            "\n",
            "        2. The  following  command  sorts,  in  reverse order, the contents of\n",
            "           i\bin\bnf\bfi\bil\ble\be1\b1 and i\bin\bnf\bfi\bil\ble\be2\b2, placing the output in o\bou\but\btf\bfi\bil\ble\be  and  using  the\n",
            "           second character of the second field as the sort key (assuming that\n",
            "           the first character of the second field is the field separator):\n",
            "\n",
            "               s\bso\bor\brt\bt −\b−r\br −\b−o\bo o\bou\but\btf\bfi\bil\ble\be −\b−k\bk 2\b2.\b.2\b2,\b,2\b2.\b.2\b2 i\bin\bnf\bfi\bil\ble\be1\b1 i\bin\bnf\bfi\bil\ble\be2\b2\n",
            "\n",
            "        3. The following command sorts the contents  of  i\bin\bnf\bfi\bil\ble\be1\b1  and  i\bin\bnf\bfi\bil\ble\be2\b2\n",
            "           using the second non-<blank> of the second field as the sort key:\n",
            "\n",
            "               s\bso\bor\brt\bt −\b−k\bk 2\b2.\b.2\b2b\bb,\b,2\b2.\b.2\b2b\bb i\bin\bnf\bfi\bil\ble\be1\b1 i\bin\bnf\bfi\bil\ble\be2\b2\n",
            "\n",
            "        4. The following command prints the System V password file (user data‐\n",
            "           base) sorted by the numeric user ID  (the  third  <colon>-separated\n",
            "           field):\n",
            "\n",
            "               s\bso\bor\brt\bt −\b−t\bt :\b: −\b−k\bk 3\b3,\b,3\b3n\bn /\b/e\bet\btc\bc/\b/p\bpa\bas\bss\bsw\bwd\bd\n",
            "\n",
            "        5. The  following  command prints the lines of the already sorted file\n",
            "           i\bin\bnf\bfi\bil\ble\be, suppressing all but one occurrence of lines having the same\n",
            "           third field:\n",
            "\n",
            "               s\bso\bor\brt\bt −\b−u\bum\bm −\b−k\bk 3\b3.\b.1\b1,\b,3\b3.\b.0\b0 i\bin\bnf\bfi\bil\ble\be\n",
            "\n",
            "R\bRA\bAT\bTI\bIO\bON\bNA\bAL\bLE\bE\n",
            "       Examples  in  some historical documentation state that options −\b−u\bum\bm with\n",
            "       one input file keep the first in each set of  lines  with  equal  keys.\n",
            "       This  behavior  was deemed to be an implementation artifact and was not\n",
            "       standardized.\n",
            "\n",
            "       The −\b−z\bz option was omitted; it is not standard practice on most  systems\n",
            "       and  is inconsistent with using _\bs_\bo_\br_\bt to sort several files individually\n",
            "       and then merge them together. The text concerning −\b−z\bz in historical doc‐\n",
            "       umentation  appeared to require implementations to determine the proper\n",
            "       buffer length during the sort phase of operation, but  not  during  the\n",
            "       merge.\n",
            "\n",
            "       The  −\b−y\by  option  was omitted because of non-portability. The −\b−M\bM option,\n",
            "       present in System V, was omitted because of non-portability in interna‐\n",
            "       tional usage.\n",
            "\n",
            "       An undocumented −\b−T\bT option exists in some implementations. It is used to\n",
            "       specify a directory for intermediate files. Implementations are encour‐\n",
            "       aged  to  support the use of the _\bT_\bM_\bP_\bD_\bI_\bR environment variable instead of\n",
            "       adding an option to support this functionality.\n",
            "\n",
            "       The −\b−k\bk option was added to satisfy two  objections.  First,  the  zero-\n",
            "       based  counting  used by _\bs_\bo_\br_\bt is not consistent with other utility con‐\n",
            "       ventions. Second, it did not meet syntax guideline requirements.\n",
            "\n",
            "       Historical documentation indicates that ``setting −\b−n\bn implies −\b−b\bb''.  The\n",
            "       description  of  −\b−n\bn  already  states that optional leading <blank>s are\n",
            "       tolerated in doing the  comparison.  If  −\b−b\bb  is  enabled,  rather  than\n",
            "       implied,  by −\b−n\bn, this has unusual side-effects. When a character offset\n",
            "       is used in a column of numbers (for example, to sort modulo 100),  that\n",
            "       offset  is  measured relative to the most significant digit, not to the\n",
            "       column.  Based upon a recommendation from the author  of  the  original\n",
            "       _\bs_\bo_\br_\bt  utility,  the −\b−b\bb implication has been omitted from this volume of\n",
            "       POSIX.1‐2008, and an application wishing to achieve the previously men‐\n",
            "       tioned side-effects has to code the −\b−b\bb flag explicitly.\n",
            "\n",
            "       Earlier versions of this standard allowed the −\b−o\bo option to appear after\n",
            "       operands. Historical practice allowed all options  to  be  interspersed\n",
            "       with  operands.  This version of the standard allows implementations to\n",
            "       accept options after operands but conforming  applications  should  not\n",
            "       use this form.\n",
            "\n",
            "       Earlier  versions of this standard also allowed the −\b−_\bn_\bu_\bm_\bb_\be_\br and +\b+_\bn_\bu_\bm_\bb_\be_\br\n",
            "       options. These options are no longer specified by POSIX.1‐2008 but  may\n",
            "       be present in some implementations.\n",
            "\n",
            "       Historical implementations produced a message on standard error when −\b−c\bc\n",
            "       was specified and disorder was detected, and when −\b−c\bc and −\b−u\bu were speci‐\n",
            "       fied and a duplicate key was detected. An earlier version of this stan‐\n",
            "       dard contained wording that did not make it clear that this message was\n",
            "       allowed  and  some implementations removed this message to be sure that\n",
            "       they conformed to the standard's  requirements.  Confronted  with  this\n",
            "       difference  in  behavior, interactive users that wanted to be sure that\n",
            "       they got visual feedback instead of just exit code 1 could have used  a\n",
            "       command like:\n",
            "\n",
            "           s\bso\bor\brt\bt −\b−c\bc f\bfi\bil\ble\be |\b||\b| e\bec\bch\bho\bo d\bdi\bis\bso\bor\brd\bde\ber\br\n",
            "\n",
            "       whether  or  not the _\bs_\bo_\br_\bt utility provided a message in this case. But,\n",
            "       it was not easy for a user to find where the disorder or duplicate  key\n",
            "       occurred  on  implementations that do not produce a message, especially\n",
            "       when some parts of the input line were not part of the key and when one\n",
            "       or  more  of the −\b−b\bb, −\b−d\bd, −\b−f\bf, −\b−i\bi, −\b−n\bn, or −\b−r options or _\bk_\be_\by_\bd_\be_\bf type modi‐\n",
            "       fiers were in use. POSIX.1‐2008 requires a message to  be  produced  in\n",
            "       this  case.  POSIX.1‐2008  also contains the −\b−C\bC option giving users the\n",
            "       ability to choose either behavior.\n",
            "\n",
            "       When a disorder or duplicate is found when the −\b−c\bc option is  specified,\n",
            "       some  implementations print a message containing the first line that is\n",
            "       out of order or contains a duplicate key; others print a message speci‐\n",
            "       fying  the  line  number  of  the  offending line. This standard allows\n",
            "       either type of message.\n",
            "\n",
            "F\bFU\bUT\bTU\bUR\bRE\bE D\bDI\bIR\bRE\bEC\bCT\bTI\bIO\bON\bNS\bS\n",
            "       None.\n",
            "\n",
            "S\bSE\bEE\bE A\bAL\bLS\bSO\bO\n",
            "       _\bc_\bo_\bm_\bm, _\bj_\bo_\bi_\bn, _\bu_\bn_\bi_\bq\n",
            "\n",
            "       The Base Definitions volume of  POSIX.1‐2008,  _\bC_\bh_\ba_\bp_\bt_\be_\br  _\b8,  _\bE_\bn_\bv_\bi_\br_\bo_\bn_\bm_\be_\bn_\bt\n",
            "       _\bV_\ba_\br_\bi_\ba_\bb_\bl_\be_\bs, _\bS_\be_\bc_\bt_\bi_\bo_\bn _\b1_\b2_\b._\b2, _\bU_\bt_\bi_\bl_\bi_\bt_\by _\bS_\by_\bn_\bt_\ba_\bx _\bG_\bu_\bi_\bd_\be_\bl_\bi_\bn_\be_\bs\n",
            "\n",
            "       The System Interfaces volume of POSIX.1‐2008, _\bt_\bo_\bu_\bp_\bp_\be_\br()\n",
            "\n",
            "C\bCO\bOP\bPY\bYR\bRI\bIG\bGH\bHT\bT\n",
            "       Portions  of  this text are reprinted and reproduced in electronic form\n",
            "       from IEEE Std 1003.1, 2013 Edition, Standard for Information Technology\n",
            "       --  Portable  Operating  System  Interface (POSIX), The Open Group Base\n",
            "       Specifications Issue 7, Copyright (C) 2013 by the Institute of Electri‐\n",
            "       cal  and  Electronics  Engineers,  Inc  and  The  Open Group.  (This is\n",
            "       POSIX.1-2008 with the 2013 Technical Corrigendum  1  applied.)  In  the\n",
            "       event of any discrepancy between this version and the original IEEE and\n",
            "       The Open Group Standard, the original IEEE and The Open Group  Standard\n",
            "       is  the  referee document. The original Standard can be obtained online\n",
            "       at http://www.unix.org/online.html .\n",
            "\n",
            "       Any typographical or formatting errors that appear  in  this  page  are\n",
            "       most likely to have been introduced during the conversion of the source\n",
            "       files to man page format. To report such errors,  see  https://www.ker‐\n",
            "       nel.org/doc/man-pages/reporting_bugs.html .\n",
            "\n",
            "IEEE/The Open Group                  2013                         SORT(1POSIX)\n"
          ],
          "name": "stdout"
        }
      ]
    },
    {
      "cell_type": "code",
      "metadata": {
        "id": "b5KG1fk2BWh4",
        "colab_type": "code",
        "colab": {
          "base_uri": "https://localhost:8080/",
          "height": 221
        },
        "outputId": "3c6b8f4a-5dcf-43ff-ce2e-215891f78e3b"
      },
      "source": [
        "%%bash\n",
        "seq -f \"linea %g\" 3 > out.1\n",
        "seq -f \"linea %g\" 3 > out.2\n",
        "cat out.1 out.2 out.1 out.2"
      ],
      "execution_count": 55,
      "outputs": [
        {
          "output_type": "stream",
          "text": [
            "linea 1\n",
            "linea 2\n",
            "linea 3\n",
            "linea 1\n",
            "linea 2\n",
            "linea 3\n",
            "linea 1\n",
            "linea 2\n",
            "linea 3\n",
            "linea 1\n",
            "linea 2\n",
            "linea 3\n"
          ],
          "name": "stdout"
        }
      ]
    },
    {
      "cell_type": "code",
      "metadata": {
        "id": "s6XlSf4UBjZx",
        "colab_type": "code",
        "colab": {
          "base_uri": "https://localhost:8080/",
          "height": 221
        },
        "outputId": "65861036-512e-490f-c64f-f090789ef0f2"
      },
      "source": [
        "## uniq para obtención de las líneas únicas de un archivo con uniq\n",
        "## solo se pueden eliminar las líneas repetidas que son consecutivas\n",
        "!cat out.1 out.2 out.1 out.2 | uniq"
      ],
      "execution_count": 56,
      "outputs": [
        {
          "output_type": "stream",
          "text": [
            "linea 1\n",
            "linea 2\n",
            "linea 3\n",
            "linea 1\n",
            "linea 2\n",
            "linea 3\n",
            "linea 1\n",
            "linea 2\n",
            "linea 3\n",
            "linea 1\n",
            "linea 2\n",
            "linea 3\n"
          ],
          "name": "stdout"
        }
      ]
    },
    {
      "cell_type": "code",
      "metadata": {
        "id": "gwpNmaEQBr6i",
        "colab_type": "code",
        "colab": {
          "base_uri": "https://localhost:8080/",
          "height": 68
        },
        "outputId": "93feb23e-ef84-4eff-ebd6-7fc2a160ca89"
      },
      "source": [
        "!cat out.1 out.2 out.1 out.2 | sort | uniq"
      ],
      "execution_count": 57,
      "outputs": [
        {
          "output_type": "stream",
          "text": [
            "linea 1\n",
            "linea 2\n",
            "linea 3\n"
          ],
          "name": "stdout"
        }
      ]
    },
    {
      "cell_type": "code",
      "metadata": {
        "id": "W3wwrXfQB8_L",
        "colab_type": "code",
        "colab": {
          "base_uri": "https://localhost:8080/",
          "height": 221
        },
        "outputId": "15328d3a-467a-42f6-bd3b-c5a2d2802483"
      },
      "source": [
        "## Conteo de q de líneas, palabras y caracteres de archio usando wc\n",
        "## Comando wc permite contar líneas, palabras, caracteres y bytes de un archivo\n",
        "## Con la opcion -l cuenta líneas, -m caracteres y -w palabras\n",
        "!wc -l out.1 out.2 # número de líneas\n",
        "!wc -m out.1 out.2 # número de caracteres\n",
        "!wc -w out.1 out.2 # número de palabras\n",
        "!wc out.1 out.2"
      ],
      "execution_count": 58,
      "outputs": [
        {
          "output_type": "stream",
          "text": [
            " 3 out.1\n",
            " 3 out.2\n",
            " 6 total\n",
            "24 out.1\n",
            "24 out.2\n",
            "48 total\n",
            " 6 out.1\n",
            " 6 out.2\n",
            "12 total\n",
            " 3  6 24 out.1\n",
            " 3  6 24 out.2\n",
            " 6 12 48 total\n"
          ],
          "name": "stdout"
        }
      ]
    },
    {
      "cell_type": "code",
      "metadata": {
        "id": "UUlAEyeaCac9",
        "colab_type": "code",
        "colab": {
          "base_uri": "https://localhost:8080/",
          "height": 204
        },
        "outputId": "02115aa5-a7d6-4ab2-f08d-664527feddab"
      },
      "source": [
        "## Búsqueda de patrones con grep\n",
        "!seq 20 | grep 1 ## Todos los números que contienen un 1"
      ],
      "execution_count": 59,
      "outputs": [
        {
          "output_type": "stream",
          "text": [
            "1\n",
            "10\n",
            "11\n",
            "12\n",
            "13\n",
            "14\n",
            "15\n",
            "16\n",
            "17\n",
            "18\n",
            "19\n"
          ],
          "name": "stdout"
        }
      ]
    },
    {
      "cell_type": "code",
      "metadata": {
        "id": "Krb7v3uNCoeu",
        "colab_type": "code",
        "colab": {
          "base_uri": "https://localhost:8080/",
          "height": 187
        },
        "outputId": "2edfd49e-3d58-4d42-afbb-8a4c90ef2baa"
      },
      "source": [
        "## El símbolo $ indica que la cadena de text debe aparecer al final de la línea\n",
        "!seq 100 | grep 1$"
      ],
      "execution_count": 60,
      "outputs": [
        {
          "output_type": "stream",
          "text": [
            "1\n",
            "11\n",
            "21\n",
            "31\n",
            "41\n",
            "51\n",
            "61\n",
            "71\n",
            "81\n",
            "91\n"
          ],
          "name": "stdout"
        }
      ]
    },
    {
      "cell_type": "code",
      "metadata": {
        "id": "rqslp3arJWu1",
        "colab_type": "code",
        "colab": {
          "base_uri": "https://localhost:8080/",
          "height": 221
        },
        "outputId": "ae16a136-a202-439d-9819-74fe33f672c8"
      },
      "source": [
        "## Para indicar los números que empiezan por 1\n",
        "!seq 100 | grep ^1"
      ],
      "execution_count": 61,
      "outputs": [
        {
          "output_type": "stream",
          "text": [
            "1\n",
            "10\n",
            "11\n",
            "12\n",
            "13\n",
            "14\n",
            "15\n",
            "16\n",
            "17\n",
            "18\n",
            "19\n",
            "100\n"
          ],
          "name": "stdout"
        }
      ]
    },
    {
      "cell_type": "code",
      "metadata": {
        "id": "OBrpohVrJcUJ",
        "colab_type": "code",
        "colab": {
          "base_uri": "https://localhost:8080/",
          "height": 34
        },
        "outputId": "1e875a10-5e2a-4ac4-c9cc-bf04cedf09d6"
      },
      "source": [
        "## Combinación de los comandos anteriores\n",
        "## Obtiene la cantidad de números del 1 al 20 que contienen un '1'\n",
        "!seq 20 | grep 1 | wc -l "
      ],
      "execution_count": 62,
      "outputs": [
        {
          "output_type": "stream",
          "text": [
            "11\n"
          ],
          "name": "stdout"
        }
      ]
    },
    {
      "cell_type": "code",
      "metadata": {
        "id": "Anoqx5czJwbw",
        "colab_type": "code",
        "colab": {
          "base_uri": "https://localhost:8080/",
          "height": 34
        },
        "outputId": "f6cec17e-7c51-4eec-b3e5-2834ae894fd2"
      },
      "source": [
        "## Reemplazo de caracteres con tr\n",
        "## Flujo de entrada <\n",
        "!echo 'h-o-l-a- -m-u-n-d-o' > out.1\n",
        "!tr -d '-' < out.1 ## Borra los caracteres '-'"
      ],
      "execution_count": 64,
      "outputs": [
        {
          "output_type": "stream",
          "text": [
            "hola mundo\n"
          ],
          "name": "stdout"
        }
      ]
    },
    {
      "cell_type": "code",
      "metadata": {
        "id": "113coZJjKHp7",
        "colab_type": "code",
        "colab": {
          "base_uri": "https://localhost:8080/",
          "height": 34
        },
        "outputId": "97a40263-5cbf-42b9-ad46-e4cc20ef5dfd"
      },
      "source": [
        "%%bash\n",
        "echo 'h-o-l-a- -m-u-n-d-o' > out.1\n",
        "tr '-'  '=' < out.1  #  '-' por '='."
      ],
      "execution_count": 65,
      "outputs": [
        {
          "output_type": "stream",
          "text": [
            "h=o=l=a= =m=u=n=d=o\n"
          ],
          "name": "stdout"
        }
      ]
    },
    {
      "cell_type": "code",
      "metadata": {
        "id": "Vsr9VKA6KSk4",
        "colab_type": "code",
        "colab": {
          "base_uri": "https://localhost:8080/",
          "height": 34
        },
        "outputId": "60a7cfb9-5155-4719-bf58-2ca6dec9f27e"
      },
      "source": [
        "%%bash\n",
        "echo 'h-o-l-a- -m-u-n-d-o' > out.1\n",
        "tr '[:lower:]'  '[:upper:]' < out.1  # minúsculas a mayúsculas."
      ],
      "execution_count": 66,
      "outputs": [
        {
          "output_type": "stream",
          "text": [
            "H-O-L-A- -M-U-N-D-O\n"
          ],
          "name": "stdout"
        }
      ]
    },
    {
      "cell_type": "code",
      "metadata": {
        "id": "fQMLioecKYIO",
        "colab_type": "code",
        "colab": {}
      },
      "source": [
        "## Ejercicio\n",
        "## Convertir solo la primera fila a minúsculas\n",
        "%%bash\n",
        "cat > out.1 <<EOF\n",
        "Date, Year, CustomerID, Value\n",
        "2013-01-12, 2013, 1, 100\n",
        "2014-05-12, 2014, 1, 100\n",
        "2013-02-25, 2013, 2, 200\n",
        "2013-04-04, 2013, 1, 100\n",
        "2013-06-21, 2013, 2, 200\n",
        "2014-05-12, 2014, 1, 100\n",
        "2014-05-12, 2014, 2, 200\n",
        "2013-02-28, 2013, 1, 100\n",
        "2013-08-02, 2013, 1, 100\n",
        "EOF"
      ],
      "execution_count": 0,
      "outputs": []
    },
    {
      "cell_type": "code",
      "metadata": {
        "id": "I9tNazHmNG2I",
        "colab_type": "code",
        "colab": {}
      },
      "source": [
        "%%bash\n",
        "cat out.1 | head -n 1 | tr '[:upper:]' '[:lower:]' > out_prueba.1 \n",
        "cat out.1 | tail +2 >> out_prueba.1"
      ],
      "execution_count": 0,
      "outputs": []
    },
    {
      "cell_type": "code",
      "metadata": {
        "id": "z_txMPspPAq1",
        "colab_type": "code",
        "colab": {
          "base_uri": "https://localhost:8080/",
          "height": 187
        },
        "outputId": "62183f32-a4f0-487c-d535-9d1caaddd6df"
      },
      "source": [
        "!cat out_prueba.1"
      ],
      "execution_count": 75,
      "outputs": [
        {
          "output_type": "stream",
          "text": [
            "date, year, customerid, value\n",
            "2013-01-12, 2013, 1, 100\n",
            "2014-05-12, 2014, 1, 100\n",
            "2013-02-25, 2013, 2, 200\n",
            "2013-04-04, 2013, 1, 100\n",
            "2013-06-21, 2013, 2, 200\n",
            "2014-05-12, 2014, 1, 100\n",
            "2014-05-12, 2014, 2, 200\n",
            "2013-02-28, 2013, 1, 100\n",
            "2013-08-02, 2013, 1, 100\n"
          ],
          "name": "stdout"
        }
      ]
    },
    {
      "cell_type": "code",
      "metadata": {
        "id": "Xtf1_ASASx-d",
        "colab_type": "code",
        "colab": {
          "base_uri": "https://localhost:8080/",
          "height": 85
        },
        "outputId": "50b50e0a-1cf6-4e3c-f33c-ec34cb239976"
      },
      "source": [
        "!cat out_prueba.1 | head -n 1 | tr \",\" \"\\n\""
      ],
      "execution_count": 88,
      "outputs": [
        {
          "output_type": "stream",
          "text": [
            "date\n",
            " year\n",
            " customerid\n",
            " value\n"
          ],
          "name": "stdout"
        }
      ]
    },
    {
      "cell_type": "code",
      "metadata": {
        "id": "Z86ZZV3uT1cC",
        "colab_type": "code",
        "colab": {
          "base_uri": "https://localhost:8080/",
          "height": 34
        },
        "outputId": "44ed9620-7835-4f16-b628-8adc3ec9bc1c"
      },
      "source": [
        "!cat out_prueba.1 | head -n 1 | tr \",\" \"\\n\" | wc -l"
      ],
      "execution_count": 97,
      "outputs": [
        {
          "output_type": "stream",
          "text": [
            "4\n"
          ],
          "name": "stdout"
        }
      ]
    },
    {
      "cell_type": "code",
      "metadata": {
        "id": "U7RqVK1HVzhR",
        "colab_type": "code",
        "colab": {
          "base_uri": "https://localhost:8080/",
          "height": 68
        },
        "outputId": "4e81a9c8-821c-482c-a213-232a66380cb8"
      },
      "source": [
        "## Cortar por columnas cut\n",
        "## Permite extraer porciones de texto de un archivo\n",
        "## Extraer las posiciones 3, 4 y 5 de cada línea de texto de un archivo\n",
        "## indicándolas como un rango (3-5)\n",
        "%%bash\n",
        "echo \"123456790\n",
        "abcdefghi\n",
        "jklmnopqr\" > out.1\n",
        "cut -c3-5 out.1"
      ],
      "execution_count": 99,
      "outputs": [
        {
          "output_type": "stream",
          "text": [
            "345\n",
            "cde\n",
            "lmn\n"
          ],
          "name": "stdout"
        }
      ]
    },
    {
      "cell_type": "code",
      "metadata": {
        "id": "GmIL3VbdWRN6",
        "colab_type": "code",
        "colab": {
          "base_uri": "https://localhost:8080/",
          "height": 68
        },
        "outputId": "afce86a3-3bee-4db2-b1d7-78b438303503"
      },
      "source": [
        "!cut -c3,4,5 out.1"
      ],
      "execution_count": 101,
      "outputs": [
        {
          "output_type": "stream",
          "text": [
            "345\n",
            "cde\n",
            "lmn\n"
          ],
          "name": "stdout"
        }
      ]
    },
    {
      "cell_type": "code",
      "metadata": {
        "id": "MEjIvgelWTvI",
        "colab_type": "code",
        "colab": {
          "base_uri": "https://localhost:8080/",
          "height": 68
        },
        "outputId": "6d6e4dd2-9ddc-46a8-b43a-4bf3ed5fd2cf"
      },
      "source": [
        "# caracteres en las posiciones 2 y 5 a 7 de cada línea de un archivo.\n",
        "!cut -c2,5-7 out.1"
      ],
      "execution_count": 103,
      "outputs": [
        {
          "output_type": "stream",
          "text": [
            "2567\n",
            "befg\n",
            "knop\n"
          ],
          "name": "stdout"
        }
      ]
    },
    {
      "cell_type": "code",
      "metadata": {
        "id": "s2B-GGbPWeA1",
        "colab_type": "code",
        "colab": {}
      },
      "source": [
        "## cut también permite manipular archivos delimitados\n",
        "%%bash\n",
        "cat > out.1 <<EOF\n",
        "FieldA, FieldD, FieldE\n",
        "   2, X, 2X\n",
        "   3, Y, 3Y\n",
        "   4, Z, 4Z\n",
        "EOF"
      ],
      "execution_count": 0,
      "outputs": []
    },
    {
      "cell_type": "code",
      "metadata": {
        "id": "dSXY78mSXEaW",
        "colab_type": "code",
        "colab": {
          "base_uri": "https://localhost:8080/",
          "height": 85
        },
        "outputId": "56c21d77-7d4e-468e-f7c8-c708455100fc"
      },
      "source": [
        "## Se extrae la columna 2 (-f2); se indica que el archivo esta delimitado por coma (-d,)\n",
        "!cut -d, -f2 out.1"
      ],
      "execution_count": 105,
      "outputs": [
        {
          "output_type": "stream",
          "text": [
            " FieldD\n",
            " X\n",
            " Y\n",
            " Z\n"
          ],
          "name": "stdout"
        }
      ]
    },
    {
      "cell_type": "code",
      "metadata": {
        "id": "ZYJvS2rFXn0w",
        "colab_type": "code",
        "colab": {
          "base_uri": "https://localhost:8080/",
          "height": 119
        },
        "outputId": "e413f258-2f15-4902-af4a-26c0adbf2246"
      },
      "source": [
        "## Delimitadores '[' y ']'\n",
        "%%bash\n",
        "seq -f\"--> [%g] <--\" 3 > out.1\n",
        "seq -f\"------> [%g] <------\" 3 >> out.1\n",
        "cat out.1"
      ],
      "execution_count": 106,
      "outputs": [
        {
          "output_type": "stream",
          "text": [
            "--> [1] <--\n",
            "--> [2] <--\n",
            "--> [3] <--\n",
            "------> [1] <------\n",
            "------> [2] <------\n",
            "------> [3] <------\n"
          ],
          "name": "stdout"
        }
      ]
    },
    {
      "cell_type": "code",
      "metadata": {
        "id": "qHN6lVFMYCil",
        "colab_type": "code",
        "colab": {
          "base_uri": "https://localhost:8080/",
          "height": 119
        },
        "outputId": "9c72633c-4a54-4624-e4c6-1577629e217d"
      },
      "source": [
        "# extrae la porción de texto después de '['\n",
        "!cut -d'[' -f2 out.1"
      ],
      "execution_count": 107,
      "outputs": [
        {
          "output_type": "stream",
          "text": [
            "1] <--\n",
            "2] <--\n",
            "3] <--\n",
            "1] <------\n",
            "2] <------\n",
            "3] <------\n"
          ],
          "name": "stdout"
        }
      ]
    },
    {
      "cell_type": "code",
      "metadata": {
        "id": "ZEYcSOkNYICu",
        "colab_type": "code",
        "colab": {
          "base_uri": "https://localhost:8080/",
          "height": 119
        },
        "outputId": "504cb0f5-f7ba-4b0f-c8af-5b179e0f132f"
      },
      "source": [
        "# extrae la porción de texto antes de ']'\n",
        "!cut -d']' -f1 out.1"
      ],
      "execution_count": 108,
      "outputs": [
        {
          "output_type": "stream",
          "text": [
            "--> [1\n",
            "--> [2\n",
            "--> [3\n",
            "------> [1\n",
            "------> [2\n",
            "------> [3\n"
          ],
          "name": "stdout"
        }
      ]
    },
    {
      "cell_type": "code",
      "metadata": {
        "id": "noe0TglWYOVB",
        "colab_type": "code",
        "colab": {
          "base_uri": "https://localhost:8080/",
          "height": 119
        },
        "outputId": "c2fbd2e5-997b-41ab-b106-d19ede1b23ca"
      },
      "source": [
        "## Combinar los otros dos archivos para traer solo el numero\n",
        "!cut -d'[' -f2 out.1 | cut -d']' -f1"
      ],
      "execution_count": 109,
      "outputs": [
        {
          "output_type": "stream",
          "text": [
            "1\n",
            "2\n",
            "3\n",
            "1\n",
            "2\n",
            "3\n"
          ],
          "name": "stdout"
        }
      ]
    },
    {
      "cell_type": "code",
      "metadata": {
        "id": "moy867gQZ4XZ",
        "colab_type": "code",
        "colab": {
          "base_uri": "https://localhost:8080/",
          "height": 85
        },
        "outputId": "41d8a019-776d-4001-8a3f-b0b5ea7f9acf"
      },
      "source": [
        "## Extraer la segunda palabra de cada línea\n",
        "%%bash\n",
        "echo \"Bash is a Unix shell and command language\n",
        "written by Brian Fox for the\n",
        "GNU Project as a free software\n",
        "replacement for the Bourne shell.\" > out.1\n",
        "cat out.1"
      ],
      "execution_count": 110,
      "outputs": [
        {
          "output_type": "stream",
          "text": [
            "Bash is a Unix shell and command language\n",
            "written by Brian Fox for the\n",
            "GNU Project as a free software\n",
            "replacement for the Bourne shell.\n"
          ],
          "name": "stdout"
        }
      ]
    },
    {
      "cell_type": "code",
      "metadata": {
        "id": "oa_H5Lk3aAke",
        "colab_type": "code",
        "colab": {
          "base_uri": "https://localhost:8080/",
          "height": 85
        },
        "outputId": "c0717993-21a6-42dd-8891-be8a47d9a6e6"
      },
      "source": [
        "# el delimitador es el espacio en blanco\n",
        "!cut -d' ' -f2 out.1"
      ],
      "execution_count": 112,
      "outputs": [
        {
          "output_type": "stream",
          "text": [
            "is\n",
            "by\n",
            "Project\n",
            "for\n"
          ],
          "name": "stdout"
        }
      ]
    },
    {
      "cell_type": "code",
      "metadata": {
        "id": "0tbkUxycaCVo",
        "colab_type": "code",
        "colab": {
          "base_uri": "https://localhost:8080/",
          "height": 68
        },
        "outputId": "53813b65-fdca-4f35-e668-8fa57ca53210"
      },
      "source": [
        "## Borrado de columnas con colrm\n",
        "## colrm inicio final\n",
        "%%bash\n",
        "echo \"123456790\n",
        "abcdefghi\n",
        "jklmnopqr\" > out.1\n",
        "colrm 3 5 < out.1"
      ],
      "execution_count": 113,
      "outputs": [
        {
          "output_type": "stream",
          "text": [
            "126790\n",
            "abfghi\n",
            "jkopqr\n"
          ],
          "name": "stdout"
        }
      ]
    },
    {
      "cell_type": "code",
      "metadata": {
        "id": "6L3PtT7OamyJ",
        "colab_type": "code",
        "colab": {
          "base_uri": "https://localhost:8080/",
          "height": 68
        },
        "outputId": "034b712b-20d0-487d-f57c-8eb51da3c4f6"
      },
      "source": [
        "## Si no se especifica la columna final, borra hasta el final de la línea\n",
        "!colrm 3 < out.1"
      ],
      "execution_count": 114,
      "outputs": [
        {
          "output_type": "stream",
          "text": [
            "12\n",
            "ab\n",
            "jk\n"
          ],
          "name": "stdout"
        }
      ]
    },
    {
      "cell_type": "code",
      "metadata": {
        "id": "vriUkug3bEVA",
        "colab_type": "code",
        "colab": {}
      },
      "source": [
        "## Unión de archivos con join\n",
        "## Unir datos usando un campo clave\n",
        "## out.1\n",
        "%%bash\n",
        "cat > out.1 <<EOF\n",
        "key, F1, F2\n",
        "  1, 11, 12\n",
        "  2, 21, 22\n",
        "  4, 41, 42\n",
        "EOF"
      ],
      "execution_count": 0,
      "outputs": []
    },
    {
      "cell_type": "code",
      "metadata": {
        "id": "dnbtuKKobSQ5",
        "colab_type": "code",
        "colab": {}
      },
      "source": [
        "## out.2\n",
        "%%bash\n",
        "cat > out.2 <<EOF\n",
        "key, F3, F4\n",
        "  1, 13, 14\n",
        "  2, 23, 24\n",
        "  3, 33, 34\n",
        "EOF"
      ],
      "execution_count": 0,
      "outputs": []
    },
    {
      "cell_type": "code",
      "metadata": {
        "id": "OYHSZ6lVbbwM",
        "colab_type": "code",
        "colab": {
          "base_uri": "https://localhost:8080/",
          "height": 68
        },
        "outputId": "1f770896-8088-44bc-f8d8-f094ee469c17"
      },
      "source": [
        "## La primera columna es la clave\n",
        "## El comando join permite unir las líneas de ambos archivos usando el campo designado como clave\n",
        "## agrega out.2 a out.1 usando como clave el primer campo (por defecto)\n",
        "!join -t, out.1 out.2"
      ],
      "execution_count": 117,
      "outputs": [
        {
          "output_type": "stream",
          "text": [
            "key, F1, F2, F3, F4\n",
            "  1, 11, 12, 13, 14\n",
            "  2, 21, 22, 23, 24\n"
          ],
          "name": "stdout"
        }
      ]
    },
    {
      "cell_type": "code",
      "metadata": {
        "id": "fCuWjDFlb8lF",
        "colab_type": "code",
        "colab": {
          "base_uri": "https://localhost:8080/",
          "height": 68
        },
        "outputId": "4329ec14-3a9a-4afe-d7d3-41a0d91d1c1c"
      },
      "source": [
        "## se puede especificar el campo de unión con las opciones\n",
        "## -1 para indicar el campo clave del primer archivo\n",
        "## -2 para indicar el campo clave del segundo archivo\n",
        "!join -1 1 -2 1 -t, out.2 out.1"
      ],
      "execution_count": 119,
      "outputs": [
        {
          "output_type": "stream",
          "text": [
            "key, F3, F4, F1, F2\n",
            "  1, 13, 14, 11, 12\n",
            "  2, 23, 24, 21, 22\n"
          ],
          "name": "stdout"
        }
      ]
    },
    {
      "cell_type": "code",
      "metadata": {
        "id": "a2dtUkljchwp",
        "colab_type": "code",
        "colab": {
          "base_uri": "https://localhost:8080/",
          "height": 272
        },
        "outputId": "f38d7948-e3a4-450f-ce41-ba179cdc114d"
      },
      "source": [
        "## Pegar archivos con paste\n",
        "%%bash\n",
        "seq -f'linea %g' 5 > out.1; cat out.1\n",
        "seq -f'linea %g' 6 1 10 > out.2; cat out.2\n",
        "paste -d'-' out.1 out.2"
      ],
      "execution_count": 120,
      "outputs": [
        {
          "output_type": "stream",
          "text": [
            "linea 1\n",
            "linea 2\n",
            "linea 3\n",
            "linea 4\n",
            "linea 5\n",
            "linea 6\n",
            "linea 7\n",
            "linea 8\n",
            "linea 9\n",
            "linea 10\n",
            "linea 1-linea 6\n",
            "linea 2-linea 7\n",
            "linea 3-linea 8\n",
            "linea 4-linea 9\n",
            "linea 5-linea 10\n"
          ],
          "name": "stdout"
        }
      ]
    },
    {
      "cell_type": "code",
      "metadata": {
        "id": "IQYGbkJicnq5",
        "colab_type": "code",
        "colab": {}
      },
      "source": [
        ""
      ],
      "execution_count": 0,
      "outputs": []
    }
  ]
}